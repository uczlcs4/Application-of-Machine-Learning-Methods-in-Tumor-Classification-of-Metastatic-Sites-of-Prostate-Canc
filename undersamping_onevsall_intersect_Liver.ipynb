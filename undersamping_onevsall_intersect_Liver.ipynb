{
 "cells": [
  {
   "cell_type": "code",
   "execution_count": 2,
   "id": "7726c976",
   "metadata": {},
   "outputs": [],
   "source": [
    "%store -r insert_035_88\n",
    "%store -r inserect_selected_genes\n",
    "import logging\n",
    "import math\n",
    "import numpy as np\n",
    "import pandas as pd\n",
    "import numpy as np\n",
    "from scipy.interpolate import UnivariateSpline\n",
    "from matplotlib import pyplot as plt\n",
    "from scipy.stats import rankdata\n",
    "from mpl_toolkits.axes_grid1 import make_axes_locatable\n",
    "from scipy.stats import rankdata\n",
    "from collections import Counter\n",
    "import random \n",
    "from imblearn.over_sampling import SMOTE, ADASYN\n",
    "from imblearn.over_sampling import RandomOverSampler\n",
    "#from imblearn.over_sampling import RandomUnderSampler\n",
    "from sklearn.model_selection import train_test_split\n",
    "from sklearn.feature_selection import SelectFromModel\n",
    "from xgboost import XGBClassifier\n",
    "from sklearn.metrics import accuracy_score\n",
    "from sklearn.metrics import confusion_matrix\n",
    "import seaborn as sns\n",
    "\n",
    "from sklearn import ensemble\n",
    "from sklearn.model_selection import KFold\n",
    "from sklearn.model_selection import cross_val_score\n",
    "from sklearn.model_selection import StratifiedKFold\n",
    "from sklearn.metrics import precision_score\n",
    "from sklearn.metrics import recall_score\n",
    "from sklearn.metrics import f1_score\n"
   ]
  },
  {
   "cell_type": "code",
   "execution_count": 3,
   "id": "3c186cc2",
   "metadata": {},
   "outputs": [
    {
     "name": "stdout",
     "output_type": "stream",
     "text": [
      "(244, 89)\n"
     ]
    }
   ],
   "source": [
    "##给数据集的每一行的最后一列加上类型 \n",
    "#117+74+40+7+6\n",
    "cancer_type=np.array([[0]*117+[1]*74+[2]*40+[3]*7+[4]*6],dtype=np.int64)\n",
    "cancer_type=cancer_type.reshape(-1,1)\n",
    "##cancer_type is a column array \n",
    "patient_np_with_cancer_type=np.hstack((inserect_selected_genes,cancer_type)) \n",
    "print(patient_np_with_cancer_type.shape)"
   ]
  },
  {
   "cell_type": "code",
   "execution_count": 4,
   "id": "d70864a4",
   "metadata": {},
   "outputs": [
    {
     "name": "stdout",
     "output_type": "stream",
     "text": [
      "(40, 89)\n",
      "(204, 89)\n"
     ]
    }
   ],
   "source": [
    "## 原始数据for liver type \n",
    "#把数据的最好一列给0是liver， 1 是其他\n",
    "Liver_type=patient_np_with_cancer_type[patient_np_with_cancer_type[:,-1]==2]\n",
    "Liver_type[:,-1]=0\n",
    "other_type_for_Liver= patient_np_with_cancer_type[patient_np_with_cancer_type[:,-1]!=2]\n",
    "other_type_for_Liver[:,-1]=1\n",
    "print(Liver_type.shape)\n",
    "print(other_type_for_Liver.shape)"
   ]
  },
  {
   "cell_type": "code",
   "execution_count": 5,
   "id": "a97e6ea8",
   "metadata": {},
   "outputs": [
    {
     "name": "stdout",
     "output_type": "stream",
     "text": [
      "TRAIN: [10 11 12 13 14 15 16 17 18 19 20 21 22 23 24 25 26 27 28 29 30 31 32 33\n",
      " 34 35 36 37 38 39] TEST: [0 1 2 3 4 5 6 7 8 9]\n",
      "TRAIN: [ 0  1  2  3  4  5  6  7  8  9 20 21 22 23 24 25 26 27 28 29 30 31 32 33\n",
      " 34 35 36 37 38 39] TEST: [10 11 12 13 14 15 16 17 18 19]\n",
      "TRAIN: [ 0  1  2  3  4  5  6  7  8  9 10 11 12 13 14 15 16 17 18 19 30 31 32 33\n",
      " 34 35 36 37 38 39] TEST: [20 21 22 23 24 25 26 27 28 29]\n",
      "TRAIN: [ 0  1  2  3  4  5  6  7  8  9 10 11 12 13 14 15 16 17 18 19 20 21 22 23\n",
      " 24 25 26 27 28 29] TEST: [30 31 32 33 34 35 36 37 38 39]\n"
     ]
    }
   ],
   "source": [
    "##把prostate 分成6:1\n",
    "##重复到40:20 \n",
    "kfold = KFold(n_splits=4, random_state=None,shuffle=False)\n",
    "#kfold.get_n_splits(Lung_type[:,:-1], Lung_type[:,-1])\n",
    "X_train_Liver_list=[]\n",
    "X_test_Liver_list=[]\n",
    "y_train_Liver_list=[]\n",
    "y_test_Liver_list=[]\n",
    "for train_index, test_index in kfold.split(Liver_type[:,:-1], Liver_type[:,-1]):\n",
    "    print(\"TRAIN:\", train_index, \"TEST:\", test_index)\n",
    "    X_train, X_test = Liver_type[:,:-1][train_index], Liver_type[:,:-1][test_index]\n",
    "    y_train, y_test = Liver_type[:,-1][train_index], Liver_type[:,-1][test_index]\n",
    "    X_train_Liver_list.append(X_train)\n",
    "    X_test_Liver_list.append(X_test)\n",
    "    y_train_Liver_list.append(y_train)\n",
    "    y_test_Liver_list.append(y_test)"
   ]
  },
  {
   "cell_type": "code",
   "execution_count": 6,
   "id": "f847b7f4",
   "metadata": {},
   "outputs": [
    {
     "name": "stdout",
     "output_type": "stream",
     "text": [
      "(160, 89)\n"
     ]
    }
   ],
   "source": [
    "np.random.shuffle(other_type_for_Liver)\n",
    "##随机取160个数据\n",
    "used_other_Liver_ind= np.random.choice(a=204,size=160,replace=False)\n",
    "\n",
    "array_other_type_for_Liver=other_type_for_Liver[used_other_Liver_ind,:]\n",
    "print(array_other_type_for_Liver.shape)"
   ]
  },
  {
   "cell_type": "code",
   "execution_count": 7,
   "id": "f48f610b",
   "metadata": {},
   "outputs": [],
   "source": [
    "##把这147是个 分到18:3的7组里面 \n",
    "LiverOther_list_train=[]\n",
    "LiverOther_list_test=[]\n",
    "\n",
    "for i in range(4): \n",
    "    LiverOther_list_train.append(array_other_type_for_Liver[30*i:30*(i+1),:])\n",
    "    LiverOther_list_test.append(array_other_type_for_Liver[120+10*i:120+10*(i+1),:])\n",
    "   \n",
    "\n"
   ]
  },
  {
   "cell_type": "code",
   "execution_count": 8,
   "id": "6c1dfe04",
   "metadata": {},
   "outputs": [
    {
     "name": "stdout",
     "output_type": "stream",
     "text": [
      "(30, 88)\n",
      "(30, 1)\n",
      "(30, 88)\n",
      "(30, 1)\n",
      "(30, 88)\n",
      "(30, 1)\n",
      "(30, 88)\n",
      "(30, 1)\n",
      "4\n",
      "(60, 89)\n",
      "(10, 88)\n",
      "(10, 1)\n",
      "(10, 88)\n",
      "(10, 1)\n",
      "(10, 88)\n",
      "(10, 1)\n",
      "(10, 88)\n",
      "(10, 1)\n",
      "4\n",
      "(20, 89)\n"
     ]
    }
   ],
   "source": [
    "##把生成的两个类都合在一起 每一个fold——train里面有44个 每一个test里面有22个\n",
    "fold_train=[]\n",
    "for i in range(4):\n",
    "    print(X_train_Liver_list[i].shape)\n",
    "    y_train_Liver_list[i]=y_train_Liver_list[i].reshape((-1,1))\n",
    "    print(y_train_Liver_list[i].shape)\n",
    "    np.hstack((X_train_Liver_list[i],y_train_Liver_list[i]))\n",
    "    fold_train.append(np.vstack((np.hstack((X_train_Liver_list[i],y_train_Liver_list[i])),LiverOther_list_train[i])))\n",
    "print(len(fold_train))\n",
    "print(fold_train[-1].shape)\n",
    "fold_test=[]\n",
    "for i in range(4): \n",
    "    print(X_test_Liver_list[i].shape)\n",
    "    y_test_Liver_list[i]=y_test_Liver_list[i].reshape((-1,1))\n",
    "    print(y_test_Liver_list[i].shape)\n",
    "    fold_test.append(np.vstack((np.hstack((X_test_Liver_list[i],y_test_Liver_list[i])),LiverOther_list_test[i])))\n",
    "print(len(fold_test))\n",
    "print(fold_test[-1].shape)\n",
    "    \n",
    "\n",
    "\n"
   ]
  },
  {
   "cell_type": "code",
   "execution_count": 9,
   "id": "3e4f604b",
   "metadata": {},
   "outputs": [],
   "source": [
    "## 其实没有oversampling了  \n",
    "ros = RandomOverSampler(random_state=0)\n",
    "X_train_union=[]\n",
    "y_train_union=[]\n",
    "X_test_union=[]\n",
    "y_test_union=[]\n",
    "for i in range(4):\n",
    "    X_train_union.append(ros.fit_resample(fold_train[i][:,:-1], fold_train[i][:,-1])[0])\n",
    "    y_train_union.append(ros.fit_resample(fold_train[i][:,:-1], fold_train[i][:,-1])[1])\n",
    "    X_test_union.append(ros.fit_resample(fold_test[i][:,:-1], fold_test[i][:,-1])[0])\n",
    "    y_test_union.append(ros.fit_resample(fold_test[i][:,:-1], fold_test[i][:,-1])[1])\n",
    "\n",
    "    \n",
    "    \n",
    "    \n",
    "\n"
   ]
  },
  {
   "cell_type": "code",
   "execution_count": 10,
   "id": "26af6f0a",
   "metadata": {},
   "outputs": [
    {
     "name": "stdout",
     "output_type": "stream",
     "text": [
      "(240, 88)\n",
      "(80, 88)\n",
      "[00:36:09] WARNING: /opt/concourse/worker/volumes/live/7a2b9f41-3287-451b-6691-43e9a6c0910f/volume/xgboost-split_1619728204606/work/src/learner.cc:1061: Starting in XGBoost 1.3.0, the default evaluation metric used with the objective 'binary:logistic' was changed from 'error' to 'logloss'. Explicitly set eval_metric if you'd like to restore the old behavior.\n",
      "88\n"
     ]
    },
    {
     "name": "stderr",
     "output_type": "stream",
     "text": [
      "/Users/chen/opt/anaconda3/lib/python3.8/site-packages/xgboost/sklearn.py:888: UserWarning: The use of label encoder in XGBClassifier is deprecated and will be removed in a future release. To remove this warning, do the following: 1) Pass option use_label_encoder=False when constructing XGBClassifier object; and 2) Encode your labels (y) as integers starting with 0, i.e. 0, 1, 2, ..., [num_class - 1].\n",
      "  warnings.warn(label_encoder_deprecation_msg, UserWarning)\n",
      "/Users/chen/opt/anaconda3/lib/python3.8/site-packages/sklearn/utils/validation.py:63: DataConversionWarning: A column-vector y was passed when a 1d array was expected. Please change the shape of y to (n_samples, ), for example using ravel().\n",
      "  return f(*args, **kwargs)\n",
      "<ipython-input-10-b998c5df1bef>:44: DataConversionWarning: A column-vector y was passed when a 1d array was expected. Please change the shape of y to (n_samples,), for example using ravel().\n",
      "  rfmodel.fit(whole_union_X, whole_union_y)\n",
      "/Users/chen/opt/anaconda3/lib/python3.8/site-packages/sklearn/utils/validation.py:63: DataConversionWarning: A column-vector y was passed when a 1d array was expected. Please change the shape of y to (n_samples, ), for example using ravel().\n",
      "  return f(*args, **kwargs)\n"
     ]
    },
    {
     "data": {
      "image/png": "[encoded data removed]",
      "text/plain": [
       "<Figure size 1080x360 with 1 Axes>"
      ]
     },
     "metadata": {
      "needs_background": "light"
     },
     "output_type": "display_data"
    },
    {
     "data": {
      "image/png": "[encoded data removed]",
      "text/plain": [
       "<Figure size 1080x360 with 1 Axes>"
      ]
     },
     "metadata": {
      "needs_background": "light"
     },
     "output_type": "display_data"
    },
    {
     "data": {
      "image/png": "[encoded data removed]",
      "text/plain": [
       "<Figure size 1080x360 with 1 Axes>"
      ]
     },
     "metadata": {
      "needs_background": "light"
     },
     "output_type": "display_data"
    }
   ],
   "source": [
    "##做whole data set 的 也就是180:180 来看rank \n",
    "##生成一个whole data set \n",
    "a=np.array(X_train_union).reshape((240,88))\n",
    "print(a.shape)\n",
    "b=np.array(X_test_union).reshape((80,88))\n",
    "print(b.shape)\n",
    "c=np.array(y_train_union).reshape((240,1))\n",
    "d=np.array(y_test_union).reshape((80,1))\n",
    "whole_union_X=np.vstack((a,b))\n",
    "whole_union_y=np.vstack((c,d))\n",
    "#print(whole_union_X.shape)\n",
    "\n",
    "\n",
    "##therefore, I decide to apply union data and inserect data on XGBOOST/RF/gbdt algo. \n",
    "##to select gene and see how accaury after selected genes \n",
    "\n",
    "##用train set to select gene apply on the test part no cross validation here \n",
    "xgbmodel = XGBClassifier(use_label_encoder=True)\n",
    "\n",
    "##union data on XGBOOST\n",
    "##用train set to select gene apply on the test part no cross validation here \n",
    "xgbmodel.fit(whole_union_X, whole_union_y)\n",
    "importance_xgbmodel= xgbmodel.feature_importances_\n",
    "values=list(importance_xgbmodel)\n",
    "id_symbol_name_bird =list(insert_035_88)\n",
    "xgb_birdgene_import = dict(zip(insert_035_88, values))\n",
    "xgb_birdgene_import_important=sorted(xgb_birdgene_import.items(),key = lambda x:x[1],reverse = True)\n",
    "xgb_birdgene_import_important_adasyn = dict((x, y) for x, y in xgb_birdgene_import_important)\n",
    "importance_sorted_xgbmodel=sorted(importance_xgbmodel,reverse=True)\n",
    "print(len(importance_sorted_xgbmodel))\n",
    "plt.figure(figsize=(15,5))\n",
    "a= np.arange(0,88,1)\n",
    "plt.bar(a, importance_sorted_xgbmodel)\n",
    "plt.ylabel('importance score', fontsize=16)\n",
    "plt.xlabel('list of genes', fontsize=16)\n",
    "plt.axis([0, 88, 0, 0.8])\n",
    "plt.savefig('XGBOOST_union_Liver_before.jpg')\n",
    "\n",
    "\n",
    "\n",
    "##bird data on random forest\n",
    "\n",
    "rfmodel = ensemble.RandomForestClassifier( oob_score = True,n_jobs = -1,random_state =0)\n",
    "rfmodel.fit(whole_union_X, whole_union_y)\n",
    "importance_rfmodel= rfmodel.feature_importances_\n",
    "values=list(importance_rfmodel)\n",
    "id_symbol_name_bird =list(insert_035_88)\n",
    "rf_birdgene_import = dict(zip(insert_035_88, values))\n",
    "rf_birdgene_import_important=sorted(rf_birdgene_import.items(),key = lambda x:x[1],reverse = True)\n",
    "rf_birdgene_import_important_adasyn = dict((x, y) for x, y in rf_birdgene_import_important)\n",
    "importance_sorted_rfmodel=sorted(importance_rfmodel,reverse=True)\n",
    "plt.figure(figsize=(15,5))\n",
    "a= np.arange(0,88,1)\n",
    "\n",
    "plt.bar(a, importance_sorted_rfmodel)\n",
    "plt.ylabel('importance score', fontsize=16)\n",
    "plt.xlabel('list of genes', fontsize=16)\n",
    "plt.axis([0, 88, 0, 0.8])\n",
    "plt.savefig('RF_union_Liver_before.jpg')\n",
    "## data on GBDT \n",
    "\n",
    "gbdtmodel=ensemble.GradientBoostingClassifier()\n",
    "gbdtmodel.fit(whole_union_X, whole_union_y)\n",
    "importance_gbdtmodel= gbdtmodel.feature_importances_\n",
    "values=list(importance_gbdtmodel)\n",
    "id_symbol_name_bird =list(insert_035_88)\n",
    "gbdt_birdgene_import = dict(zip(insert_035_88, values))\n",
    "gbdt_birdgene_import_important=sorted(gbdt_birdgene_import.items(),key = lambda x:x[1],reverse = True)\n",
    "gbdt_birdgene_import_important_adasyn = dict((x, y) for x, y in gbdt_birdgene_import_important)\n",
    "importance_sorted_gbdt=sorted(importance_gbdtmodel,reverse=True)\n",
    "plt.figure(figsize=(15,5))\n",
    "a= np.arange(0,88,1)\n",
    "\n",
    "plt.bar(a, importance_sorted_gbdt)\n",
    "plt.ylabel('importance score', fontsize=16)\n",
    "plt.xlabel('list of genes', fontsize=16)\n",
    "plt.axis([0, 88, 0, 0.8])\n",
    "plt.savefig('gbdt_union_Liver_before.jpg')\n",
    "\n"
   ]
  },
  {
   "cell_type": "code",
   "execution_count": 11,
   "id": "2b054998",
   "metadata": {},
   "outputs": [
    {
     "name": "stderr",
     "output_type": "stream",
     "text": [
      "/Users/chen/opt/anaconda3/lib/python3.8/site-packages/xgboost/sklearn.py:888: UserWarning: The use of label encoder in XGBClassifier is deprecated and will be removed in a future release. To remove this warning, do the following: 1) Pass option use_label_encoder=False when constructing XGBClassifier object; and 2) Encode your labels (y) as integers starting with 0, i.e. 0, 1, 2, ..., [num_class - 1].\n",
      "  warnings.warn(label_encoder_deprecation_msg, UserWarning)\n",
      "/Users/chen/opt/anaconda3/lib/python3.8/site-packages/sklearn/utils/validation.py:63: DataConversionWarning: A column-vector y was passed when a 1d array was expected. Please change the shape of y to (n_samples, ), for example using ravel().\n",
      "  return f(*args, **kwargs)\n"
     ]
    },
    {
     "name": "stdout",
     "output_type": "stream",
     "text": [
      "[00:36:13] WARNING: /opt/concourse/worker/volumes/live/7a2b9f41-3287-451b-6691-43e9a6c0910f/volume/xgboost-split_1619728204606/work/src/learner.cc:1061: Starting in XGBoost 1.3.0, the default evaluation metric used with the objective 'binary:logistic' was changed from 'error' to 'logloss'. Explicitly set eval_metric if you'd like to restore the old behavior.\n"
     ]
    },
    {
     "name": "stderr",
     "output_type": "stream",
     "text": [
      "/Users/chen/opt/anaconda3/lib/python3.8/site-packages/xgboost/sklearn.py:888: UserWarning: The use of label encoder in XGBClassifier is deprecated and will be removed in a future release. To remove this warning, do the following: 1) Pass option use_label_encoder=False when constructing XGBClassifier object; and 2) Encode your labels (y) as integers starting with 0, i.e. 0, 1, 2, ..., [num_class - 1].\n",
      "  warnings.warn(label_encoder_deprecation_msg, UserWarning)\n",
      "/Users/chen/opt/anaconda3/lib/python3.8/site-packages/xgboost/sklearn.py:888: UserWarning: The use of label encoder in XGBClassifier is deprecated and will be removed in a future release. To remove this warning, do the following: 1) Pass option use_label_encoder=False when constructing XGBClassifier object; and 2) Encode your labels (y) as integers starting with 0, i.e. 0, 1, 2, ..., [num_class - 1].\n",
      "  warnings.warn(label_encoder_deprecation_msg, UserWarning)\n"
     ]
    },
    {
     "name": "stdout",
     "output_type": "stream",
     "text": [
      "[00:36:13] WARNING: /opt/concourse/worker/volumes/live/7a2b9f41-3287-451b-6691-43e9a6c0910f/volume/xgboost-split_1619728204606/work/src/learner.cc:1061: Starting in XGBoost 1.3.0, the default evaluation metric used with the objective 'binary:logistic' was changed from 'error' to 'logloss'. Explicitly set eval_metric if you'd like to restore the old behavior.\n",
      "[00:36:14] WARNING: /opt/concourse/worker/volumes/live/7a2b9f41-3287-451b-6691-43e9a6c0910f/volume/xgboost-split_1619728204606/work/src/learner.cc:1061: Starting in XGBoost 1.3.0, the default evaluation metric used with the objective 'binary:logistic' was changed from 'error' to 'logloss'. Explicitly set eval_metric if you'd like to restore the old behavior.\n"
     ]
    },
    {
     "name": "stderr",
     "output_type": "stream",
     "text": [
      "/Users/chen/opt/anaconda3/lib/python3.8/site-packages/xgboost/sklearn.py:888: UserWarning: The use of label encoder in XGBClassifier is deprecated and will be removed in a future release. To remove this warning, do the following: 1) Pass option use_label_encoder=False when constructing XGBClassifier object; and 2) Encode your labels (y) as integers starting with 0, i.e. 0, 1, 2, ..., [num_class - 1].\n",
      "  warnings.warn(label_encoder_deprecation_msg, UserWarning)\n",
      "/Users/chen/opt/anaconda3/lib/python3.8/site-packages/xgboost/sklearn.py:888: UserWarning: The use of label encoder in XGBClassifier is deprecated and will be removed in a future release. To remove this warning, do the following: 1) Pass option use_label_encoder=False when constructing XGBClassifier object; and 2) Encode your labels (y) as integers starting with 0, i.e. 0, 1, 2, ..., [num_class - 1].\n",
      "  warnings.warn(label_encoder_deprecation_msg, UserWarning)\n",
      "/Users/chen/opt/anaconda3/lib/python3.8/site-packages/xgboost/sklearn.py:888: UserWarning: The use of label encoder in XGBClassifier is deprecated and will be removed in a future release. To remove this warning, do the following: 1) Pass option use_label_encoder=False when constructing XGBClassifier object; and 2) Encode your labels (y) as integers starting with 0, i.e. 0, 1, 2, ..., [num_class - 1].\n",
      "  warnings.warn(label_encoder_deprecation_msg, UserWarning)\n"
     ]
    },
    {
     "name": "stdout",
     "output_type": "stream",
     "text": [
      "[00:36:14] WARNING: /opt/concourse/worker/volumes/live/7a2b9f41-3287-451b-6691-43e9a6c0910f/volume/xgboost-split_1619728204606/work/src/learner.cc:1061: Starting in XGBoost 1.3.0, the default evaluation metric used with the objective 'binary:logistic' was changed from 'error' to 'logloss'. Explicitly set eval_metric if you'd like to restore the old behavior.\n",
      "[00:36:14] WARNING: /opt/concourse/worker/volumes/live/7a2b9f41-3287-451b-6691-43e9a6c0910f/volume/xgboost-split_1619728204606/work/src/learner.cc:1061: Starting in XGBoost 1.3.0, the default evaluation metric used with the objective 'binary:logistic' was changed from 'error' to 'logloss'. Explicitly set eval_metric if you'd like to restore the old behavior.\n",
      "Thresh=0.192, n=1, Accuracy: 82.50%\n",
      "[00:36:14] WARNING: /opt/concourse/worker/volumes/live/7a2b9f41-3287-451b-6691-43e9a6c0910f/volume/xgboost-split_1619728204606/work/src/learner.cc:1061: Starting in XGBoost 1.3.0, the default evaluation metric used with the objective 'binary:logistic' was changed from 'error' to 'logloss'. Explicitly set eval_metric if you'd like to restore the old behavior.\n"
     ]
    },
    {
     "name": "stderr",
     "output_type": "stream",
     "text": [
      "/Users/chen/opt/anaconda3/lib/python3.8/site-packages/xgboost/sklearn.py:888: UserWarning: The use of label encoder in XGBClassifier is deprecated and will be removed in a future release. To remove this warning, do the following: 1) Pass option use_label_encoder=False when constructing XGBClassifier object; and 2) Encode your labels (y) as integers starting with 0, i.e. 0, 1, 2, ..., [num_class - 1].\n",
      "  warnings.warn(label_encoder_deprecation_msg, UserWarning)\n",
      "/Users/chen/opt/anaconda3/lib/python3.8/site-packages/xgboost/sklearn.py:888: UserWarning: The use of label encoder in XGBClassifier is deprecated and will be removed in a future release. To remove this warning, do the following: 1) Pass option use_label_encoder=False when constructing XGBClassifier object; and 2) Encode your labels (y) as integers starting with 0, i.e. 0, 1, 2, ..., [num_class - 1].\n",
      "  warnings.warn(label_encoder_deprecation_msg, UserWarning)\n"
     ]
    },
    {
     "name": "stdout",
     "output_type": "stream",
     "text": [
      "[00:36:14] WARNING: /opt/concourse/worker/volumes/live/7a2b9f41-3287-451b-6691-43e9a6c0910f/volume/xgboost-split_1619728204606/work/src/learner.cc:1061: Starting in XGBoost 1.3.0, the default evaluation metric used with the objective 'binary:logistic' was changed from 'error' to 'logloss'. Explicitly set eval_metric if you'd like to restore the old behavior.\n",
      "[00:36:14] WARNING: /opt/concourse/worker/volumes/live/7a2b9f41-3287-451b-6691-43e9a6c0910f/volume/xgboost-split_1619728204606/work/src/learner.cc:1061: Starting in XGBoost 1.3.0, the default evaluation metric used with the objective 'binary:logistic' was changed from 'error' to 'logloss'. Explicitly set eval_metric if you'd like to restore the old behavior.\n"
     ]
    },
    {
     "name": "stderr",
     "output_type": "stream",
     "text": [
      "/Users/chen/opt/anaconda3/lib/python3.8/site-packages/xgboost/sklearn.py:888: UserWarning: The use of label encoder in XGBClassifier is deprecated and will be removed in a future release. To remove this warning, do the following: 1) Pass option use_label_encoder=False when constructing XGBClassifier object; and 2) Encode your labels (y) as integers starting with 0, i.e. 0, 1, 2, ..., [num_class - 1].\n",
      "  warnings.warn(label_encoder_deprecation_msg, UserWarning)\n",
      "/Users/chen/opt/anaconda3/lib/python3.8/site-packages/xgboost/sklearn.py:888: UserWarning: The use of label encoder in XGBClassifier is deprecated and will be removed in a future release. To remove this warning, do the following: 1) Pass option use_label_encoder=False when constructing XGBClassifier object; and 2) Encode your labels (y) as integers starting with 0, i.e. 0, 1, 2, ..., [num_class - 1].\n",
      "  warnings.warn(label_encoder_deprecation_msg, UserWarning)\n"
     ]
    },
    {
     "name": "stdout",
     "output_type": "stream",
     "text": [
      "[00:36:15] WARNING: /opt/concourse/worker/volumes/live/7a2b9f41-3287-451b-6691-43e9a6c0910f/volume/xgboost-split_1619728204606/work/src/learner.cc:1061: Starting in XGBoost 1.3.0, the default evaluation metric used with the objective 'binary:logistic' was changed from 'error' to 'logloss'. Explicitly set eval_metric if you'd like to restore the old behavior.\n",
      "Thresh=0.085, n=2, Accuracy: 82.50%\n",
      "[00:36:15] WARNING: /opt/concourse/worker/volumes/live/7a2b9f41-3287-451b-6691-43e9a6c0910f/volume/xgboost-split_1619728204606/work/src/learner.cc:1061: Starting in XGBoost 1.3.0, the default evaluation metric used with the objective 'binary:logistic' was changed from 'error' to 'logloss'. Explicitly set eval_metric if you'd like to restore the old behavior.\n"
     ]
    },
    {
     "name": "stderr",
     "output_type": "stream",
     "text": [
      "/Users/chen/opt/anaconda3/lib/python3.8/site-packages/xgboost/sklearn.py:888: UserWarning: The use of label encoder in XGBClassifier is deprecated and will be removed in a future release. To remove this warning, do the following: 1) Pass option use_label_encoder=False when constructing XGBClassifier object; and 2) Encode your labels (y) as integers starting with 0, i.e. 0, 1, 2, ..., [num_class - 1].\n",
      "  warnings.warn(label_encoder_deprecation_msg, UserWarning)\n",
      "/Users/chen/opt/anaconda3/lib/python3.8/site-packages/xgboost/sklearn.py:888: UserWarning: The use of label encoder in XGBClassifier is deprecated and will be removed in a future release. To remove this warning, do the following: 1) Pass option use_label_encoder=False when constructing XGBClassifier object; and 2) Encode your labels (y) as integers starting with 0, i.e. 0, 1, 2, ..., [num_class - 1].\n",
      "  warnings.warn(label_encoder_deprecation_msg, UserWarning)\n"
     ]
    },
    {
     "name": "stdout",
     "output_type": "stream",
     "text": [
      "[00:36:15] WARNING: /opt/concourse/worker/volumes/live/7a2b9f41-3287-451b-6691-43e9a6c0910f/volume/xgboost-split_1619728204606/work/src/learner.cc:1061: Starting in XGBoost 1.3.0, the default evaluation metric used with the objective 'binary:logistic' was changed from 'error' to 'logloss'. Explicitly set eval_metric if you'd like to restore the old behavior.\n",
      "[00:36:15] WARNING: /opt/concourse/worker/volumes/live/7a2b9f41-3287-451b-6691-43e9a6c0910f/volume/xgboost-split_1619728204606/work/src/learner.cc:1061: Starting in XGBoost 1.3.0, the default evaluation metric used with the objective 'binary:logistic' was changed from 'error' to 'logloss'. Explicitly set eval_metric if you'd like to restore the old behavior.\n"
     ]
    },
    {
     "name": "stderr",
     "output_type": "stream",
     "text": [
      "/Users/chen/opt/anaconda3/lib/python3.8/site-packages/xgboost/sklearn.py:888: UserWarning: The use of label encoder in XGBClassifier is deprecated and will be removed in a future release. To remove this warning, do the following: 1) Pass option use_label_encoder=False when constructing XGBClassifier object; and 2) Encode your labels (y) as integers starting with 0, i.e. 0, 1, 2, ..., [num_class - 1].\n",
      "  warnings.warn(label_encoder_deprecation_msg, UserWarning)\n"
     ]
    },
    {
     "name": "stdout",
     "output_type": "stream",
     "text": [
      "[00:36:15] WARNING: /opt/concourse/worker/volumes/live/7a2b9f41-3287-451b-6691-43e9a6c0910f/volume/xgboost-split_1619728204606/work/src/learner.cc:1061: Starting in XGBoost 1.3.0, the default evaluation metric used with the objective 'binary:logistic' was changed from 'error' to 'logloss'. Explicitly set eval_metric if you'd like to restore the old behavior.\n",
      "Thresh=0.072, n=3, Accuracy: 88.75%\n",
      "[00:36:16] WARNING: /opt/concourse/worker/volumes/live/7a2b9f41-3287-451b-6691-43e9a6c0910f/volume/xgboost-split_1619728204606/work/src/learner.cc:1061: Starting in XGBoost 1.3.0, the default evaluation metric used with the objective 'binary:logistic' was changed from 'error' to 'logloss'. Explicitly set eval_metric if you'd like to restore the old behavior.\n",
      "[00:36:16] WARNING: /opt/concourse/worker/volumes/live/7a2b9f41-3287-451b-6691-43e9a6c0910f/volume/xgboost-split_1619728204606/work/src/learner.cc:1061: Starting in XGBoost 1.3.0, the default evaluation metric used with the objective 'binary:logistic' was changed from 'error' to 'logloss'. Explicitly set eval_metric if you'd like to restore the old behavior.\n",
      "[00:36:16] WARNING: /opt/concourse/worker/volumes/live/7a2b9f41-3287-451b-6691-43e9a6c0910f/volume/xgboost-split_1619728204606/work/src/learner.cc:1061: Starting in XGBoost 1.3.0, the default evaluation metric used with the objective 'binary:logistic' was changed from 'error' to 'logloss'. Explicitly set eval_metric if you'd like to restore the old behavior.\n"
     ]
    },
    {
     "name": "stderr",
     "output_type": "stream",
     "text": [
      "/Users/chen/opt/anaconda3/lib/python3.8/site-packages/xgboost/sklearn.py:888: UserWarning: The use of label encoder in XGBClassifier is deprecated and will be removed in a future release. To remove this warning, do the following: 1) Pass option use_label_encoder=False when constructing XGBClassifier object; and 2) Encode your labels (y) as integers starting with 0, i.e. 0, 1, 2, ..., [num_class - 1].\n",
      "  warnings.warn(label_encoder_deprecation_msg, UserWarning)\n",
      "/Users/chen/opt/anaconda3/lib/python3.8/site-packages/xgboost/sklearn.py:888: UserWarning: The use of label encoder in XGBClassifier is deprecated and will be removed in a future release. To remove this warning, do the following: 1) Pass option use_label_encoder=False when constructing XGBClassifier object; and 2) Encode your labels (y) as integers starting with 0, i.e. 0, 1, 2, ..., [num_class - 1].\n",
      "  warnings.warn(label_encoder_deprecation_msg, UserWarning)\n",
      "/Users/chen/opt/anaconda3/lib/python3.8/site-packages/xgboost/sklearn.py:888: UserWarning: The use of label encoder in XGBClassifier is deprecated and will be removed in a future release. To remove this warning, do the following: 1) Pass option use_label_encoder=False when constructing XGBClassifier object; and 2) Encode your labels (y) as integers starting with 0, i.e. 0, 1, 2, ..., [num_class - 1].\n",
      "  warnings.warn(label_encoder_deprecation_msg, UserWarning)\n",
      "/Users/chen/opt/anaconda3/lib/python3.8/site-packages/xgboost/sklearn.py:888: UserWarning: The use of label encoder in XGBClassifier is deprecated and will be removed in a future release. To remove this warning, do the following: 1) Pass option use_label_encoder=False when constructing XGBClassifier object; and 2) Encode your labels (y) as integers starting with 0, i.e. 0, 1, 2, ..., [num_class - 1].\n",
      "  warnings.warn(label_encoder_deprecation_msg, UserWarning)\n",
      "/Users/chen/opt/anaconda3/lib/python3.8/site-packages/xgboost/sklearn.py:888: UserWarning: The use of label encoder in XGBClassifier is deprecated and will be removed in a future release. To remove this warning, do the following: 1) Pass option use_label_encoder=False when constructing XGBClassifier object; and 2) Encode your labels (y) as integers starting with 0, i.e. 0, 1, 2, ..., [num_class - 1].\n",
      "  warnings.warn(label_encoder_deprecation_msg, UserWarning)\n",
      "/Users/chen/opt/anaconda3/lib/python3.8/site-packages/xgboost/sklearn.py:888: UserWarning: The use of label encoder in XGBClassifier is deprecated and will be removed in a future release. To remove this warning, do the following: 1) Pass option use_label_encoder=False when constructing XGBClassifier object; and 2) Encode your labels (y) as integers starting with 0, i.e. 0, 1, 2, ..., [num_class - 1].\n",
      "  warnings.warn(label_encoder_deprecation_msg, UserWarning)\n"
     ]
    },
    {
     "name": "stdout",
     "output_type": "stream",
     "text": [
      "[00:36:16] WARNING: /opt/concourse/worker/volumes/live/7a2b9f41-3287-451b-6691-43e9a6c0910f/volume/xgboost-split_1619728204606/work/src/learner.cc:1061: Starting in XGBoost 1.3.0, the default evaluation metric used with the objective 'binary:logistic' was changed from 'error' to 'logloss'. Explicitly set eval_metric if you'd like to restore the old behavior.\n",
      "Thresh=0.062, n=4, Accuracy: 87.50%\n",
      "[00:36:16] WARNING: /opt/concourse/worker/volumes/live/7a2b9f41-3287-451b-6691-43e9a6c0910f/volume/xgboost-split_1619728204606/work/src/learner.cc:1061: Starting in XGBoost 1.3.0, the default evaluation metric used with the objective 'binary:logistic' was changed from 'error' to 'logloss'. Explicitly set eval_metric if you'd like to restore the old behavior.\n",
      "[00:36:16] WARNING: /opt/concourse/worker/volumes/live/7a2b9f41-3287-451b-6691-43e9a6c0910f/volume/xgboost-split_1619728204606/work/src/learner.cc:1061: Starting in XGBoost 1.3.0, the default evaluation metric used with the objective 'binary:logistic' was changed from 'error' to 'logloss'. Explicitly set eval_metric if you'd like to restore the old behavior.\n"
     ]
    },
    {
     "name": "stderr",
     "output_type": "stream",
     "text": [
      "/Users/chen/opt/anaconda3/lib/python3.8/site-packages/xgboost/sklearn.py:888: UserWarning: The use of label encoder in XGBClassifier is deprecated and will be removed in a future release. To remove this warning, do the following: 1) Pass option use_label_encoder=False when constructing XGBClassifier object; and 2) Encode your labels (y) as integers starting with 0, i.e. 0, 1, 2, ..., [num_class - 1].\n",
      "  warnings.warn(label_encoder_deprecation_msg, UserWarning)\n",
      "/Users/chen/opt/anaconda3/lib/python3.8/site-packages/xgboost/sklearn.py:888: UserWarning: The use of label encoder in XGBClassifier is deprecated and will be removed in a future release. To remove this warning, do the following: 1) Pass option use_label_encoder=False when constructing XGBClassifier object; and 2) Encode your labels (y) as integers starting with 0, i.e. 0, 1, 2, ..., [num_class - 1].\n",
      "  warnings.warn(label_encoder_deprecation_msg, UserWarning)\n"
     ]
    },
    {
     "name": "stdout",
     "output_type": "stream",
     "text": [
      "[00:36:16] WARNING: /opt/concourse/worker/volumes/live/7a2b9f41-3287-451b-6691-43e9a6c0910f/volume/xgboost-split_1619728204606/work/src/learner.cc:1061: Starting in XGBoost 1.3.0, the default evaluation metric used with the objective 'binary:logistic' was changed from 'error' to 'logloss'. Explicitly set eval_metric if you'd like to restore the old behavior.\n",
      "[00:36:16] WARNING: /opt/concourse/worker/volumes/live/7a2b9f41-3287-451b-6691-43e9a6c0910f/volume/xgboost-split_1619728204606/work/src/learner.cc:1061: Starting in XGBoost 1.3.0, the default evaluation metric used with the objective 'binary:logistic' was changed from 'error' to 'logloss'. Explicitly set eval_metric if you'd like to restore the old behavior.\n",
      "Thresh=0.061, n=5, Accuracy: 85.00%\n"
     ]
    },
    {
     "name": "stderr",
     "output_type": "stream",
     "text": [
      "/Users/chen/opt/anaconda3/lib/python3.8/site-packages/xgboost/sklearn.py:888: UserWarning: The use of label encoder in XGBClassifier is deprecated and will be removed in a future release. To remove this warning, do the following: 1) Pass option use_label_encoder=False when constructing XGBClassifier object; and 2) Encode your labels (y) as integers starting with 0, i.e. 0, 1, 2, ..., [num_class - 1].\n",
      "  warnings.warn(label_encoder_deprecation_msg, UserWarning)\n",
      "/Users/chen/opt/anaconda3/lib/python3.8/site-packages/xgboost/sklearn.py:888: UserWarning: The use of label encoder in XGBClassifier is deprecated and will be removed in a future release. To remove this warning, do the following: 1) Pass option use_label_encoder=False when constructing XGBClassifier object; and 2) Encode your labels (y) as integers starting with 0, i.e. 0, 1, 2, ..., [num_class - 1].\n",
      "  warnings.warn(label_encoder_deprecation_msg, UserWarning)\n"
     ]
    },
    {
     "name": "stdout",
     "output_type": "stream",
     "text": [
      "[00:36:16] WARNING: /opt/concourse/worker/volumes/live/7a2b9f41-3287-451b-6691-43e9a6c0910f/volume/xgboost-split_1619728204606/work/src/learner.cc:1061: Starting in XGBoost 1.3.0, the default evaluation metric used with the objective 'binary:logistic' was changed from 'error' to 'logloss'. Explicitly set eval_metric if you'd like to restore the old behavior.\n",
      "[00:36:17] WARNING: /opt/concourse/worker/volumes/live/7a2b9f41-3287-451b-6691-43e9a6c0910f/volume/xgboost-split_1619728204606/work/src/learner.cc:1061: Starting in XGBoost 1.3.0, the default evaluation metric used with the objective 'binary:logistic' was changed from 'error' to 'logloss'. Explicitly set eval_metric if you'd like to restore the old behavior.\n"
     ]
    },
    {
     "name": "stderr",
     "output_type": "stream",
     "text": [
      "/Users/chen/opt/anaconda3/lib/python3.8/site-packages/xgboost/sklearn.py:888: UserWarning: The use of label encoder in XGBClassifier is deprecated and will be removed in a future release. To remove this warning, do the following: 1) Pass option use_label_encoder=False when constructing XGBClassifier object; and 2) Encode your labels (y) as integers starting with 0, i.e. 0, 1, 2, ..., [num_class - 1].\n",
      "  warnings.warn(label_encoder_deprecation_msg, UserWarning)\n"
     ]
    },
    {
     "name": "stdout",
     "output_type": "stream",
     "text": [
      "[00:36:17] WARNING: /opt/concourse/worker/volumes/live/7a2b9f41-3287-451b-6691-43e9a6c0910f/volume/xgboost-split_1619728204606/work/src/learner.cc:1061: Starting in XGBoost 1.3.0, the default evaluation metric used with the objective 'binary:logistic' was changed from 'error' to 'logloss'. Explicitly set eval_metric if you'd like to restore the old behavior.\n"
     ]
    },
    {
     "name": "stderr",
     "output_type": "stream",
     "text": [
      "/Users/chen/opt/anaconda3/lib/python3.8/site-packages/xgboost/sklearn.py:888: UserWarning: The use of label encoder in XGBClassifier is deprecated and will be removed in a future release. To remove this warning, do the following: 1) Pass option use_label_encoder=False when constructing XGBClassifier object; and 2) Encode your labels (y) as integers starting with 0, i.e. 0, 1, 2, ..., [num_class - 1].\n",
      "  warnings.warn(label_encoder_deprecation_msg, UserWarning)\n",
      "/Users/chen/opt/anaconda3/lib/python3.8/site-packages/xgboost/sklearn.py:888: UserWarning: The use of label encoder in XGBClassifier is deprecated and will be removed in a future release. To remove this warning, do the following: 1) Pass option use_label_encoder=False when constructing XGBClassifier object; and 2) Encode your labels (y) as integers starting with 0, i.e. 0, 1, 2, ..., [num_class - 1].\n",
      "  warnings.warn(label_encoder_deprecation_msg, UserWarning)\n"
     ]
    },
    {
     "name": "stdout",
     "output_type": "stream",
     "text": [
      "[00:36:17] WARNING: /opt/concourse/worker/volumes/live/7a2b9f41-3287-451b-6691-43e9a6c0910f/volume/xgboost-split_1619728204606/work/src/learner.cc:1061: Starting in XGBoost 1.3.0, the default evaluation metric used with the objective 'binary:logistic' was changed from 'error' to 'logloss'. Explicitly set eval_metric if you'd like to restore the old behavior.\n",
      "Thresh=0.040, n=6, Accuracy: 86.25%\n",
      "[00:36:17] WARNING: /opt/concourse/worker/volumes/live/7a2b9f41-3287-451b-6691-43e9a6c0910f/volume/xgboost-split_1619728204606/work/src/learner.cc:1061: Starting in XGBoost 1.3.0, the default evaluation metric used with the objective 'binary:logistic' was changed from 'error' to 'logloss'. Explicitly set eval_metric if you'd like to restore the old behavior.\n",
      "[00:36:17] WARNING: /opt/concourse/worker/volumes/live/7a2b9f41-3287-451b-6691-43e9a6c0910f/volume/xgboost-split_1619728204606/work/src/learner.cc:1061: Starting in XGBoost 1.3.0, the default evaluation metric used with the objective 'binary:logistic' was changed from 'error' to 'logloss'. Explicitly set eval_metric if you'd like to restore the old behavior.\n",
      "[00:36:17] WARNING: /opt/concourse/worker/volumes/live/7a2b9f41-3287-451b-6691-43e9a6c0910f/volume/xgboost-split_1619728204606/work/src/learner.cc:1061: Starting in XGBoost 1.3.0, the default evaluation metric used with the objective 'binary:logistic' was changed from 'error' to 'logloss'. Explicitly set eval_metric if you'd like to restore the old behavior.\n"
     ]
    },
    {
     "name": "stderr",
     "output_type": "stream",
     "text": [
      "/Users/chen/opt/anaconda3/lib/python3.8/site-packages/xgboost/sklearn.py:888: UserWarning: The use of label encoder in XGBClassifier is deprecated and will be removed in a future release. To remove this warning, do the following: 1) Pass option use_label_encoder=False when constructing XGBClassifier object; and 2) Encode your labels (y) as integers starting with 0, i.e. 0, 1, 2, ..., [num_class - 1].\n",
      "  warnings.warn(label_encoder_deprecation_msg, UserWarning)\n",
      "/Users/chen/opt/anaconda3/lib/python3.8/site-packages/xgboost/sklearn.py:888: UserWarning: The use of label encoder in XGBClassifier is deprecated and will be removed in a future release. To remove this warning, do the following: 1) Pass option use_label_encoder=False when constructing XGBClassifier object; and 2) Encode your labels (y) as integers starting with 0, i.e. 0, 1, 2, ..., [num_class - 1].\n",
      "  warnings.warn(label_encoder_deprecation_msg, UserWarning)\n",
      "/Users/chen/opt/anaconda3/lib/python3.8/site-packages/xgboost/sklearn.py:888: UserWarning: The use of label encoder in XGBClassifier is deprecated and will be removed in a future release. To remove this warning, do the following: 1) Pass option use_label_encoder=False when constructing XGBClassifier object; and 2) Encode your labels (y) as integers starting with 0, i.e. 0, 1, 2, ..., [num_class - 1].\n",
      "  warnings.warn(label_encoder_deprecation_msg, UserWarning)\n"
     ]
    },
    {
     "name": "stdout",
     "output_type": "stream",
     "text": [
      "[00:36:17] WARNING: /opt/concourse/worker/volumes/live/7a2b9f41-3287-451b-6691-43e9a6c0910f/volume/xgboost-split_1619728204606/work/src/learner.cc:1061: Starting in XGBoost 1.3.0, the default evaluation metric used with the objective 'binary:logistic' was changed from 'error' to 'logloss'. Explicitly set eval_metric if you'd like to restore the old behavior.\n",
      "Thresh=0.037, n=7, Accuracy: 88.75%\n",
      "[00:36:17] WARNING: /opt/concourse/worker/volumes/live/7a2b9f41-3287-451b-6691-43e9a6c0910f/volume/xgboost-split_1619728204606/work/src/learner.cc:1061: Starting in XGBoost 1.3.0, the default evaluation metric used with the objective 'binary:logistic' was changed from 'error' to 'logloss'. Explicitly set eval_metric if you'd like to restore the old behavior.\n"
     ]
    },
    {
     "name": "stderr",
     "output_type": "stream",
     "text": [
      "/Users/chen/opt/anaconda3/lib/python3.8/site-packages/xgboost/sklearn.py:888: UserWarning: The use of label encoder in XGBClassifier is deprecated and will be removed in a future release. To remove this warning, do the following: 1) Pass option use_label_encoder=False when constructing XGBClassifier object; and 2) Encode your labels (y) as integers starting with 0, i.e. 0, 1, 2, ..., [num_class - 1].\n",
      "  warnings.warn(label_encoder_deprecation_msg, UserWarning)\n",
      "/Users/chen/opt/anaconda3/lib/python3.8/site-packages/xgboost/sklearn.py:888: UserWarning: The use of label encoder in XGBClassifier is deprecated and will be removed in a future release. To remove this warning, do the following: 1) Pass option use_label_encoder=False when constructing XGBClassifier object; and 2) Encode your labels (y) as integers starting with 0, i.e. 0, 1, 2, ..., [num_class - 1].\n",
      "  warnings.warn(label_encoder_deprecation_msg, UserWarning)\n",
      "/Users/chen/opt/anaconda3/lib/python3.8/site-packages/xgboost/sklearn.py:888: UserWarning: The use of label encoder in XGBClassifier is deprecated and will be removed in a future release. To remove this warning, do the following: 1) Pass option use_label_encoder=False when constructing XGBClassifier object; and 2) Encode your labels (y) as integers starting with 0, i.e. 0, 1, 2, ..., [num_class - 1].\n",
      "  warnings.warn(label_encoder_deprecation_msg, UserWarning)\n"
     ]
    },
    {
     "name": "stdout",
     "output_type": "stream",
     "text": [
      "[00:36:18] WARNING: /opt/concourse/worker/volumes/live/7a2b9f41-3287-451b-6691-43e9a6c0910f/volume/xgboost-split_1619728204606/work/src/learner.cc:1061: Starting in XGBoost 1.3.0, the default evaluation metric used with the objective 'binary:logistic' was changed from 'error' to 'logloss'. Explicitly set eval_metric if you'd like to restore the old behavior.\n",
      "[00:36:18] WARNING: /opt/concourse/worker/volumes/live/7a2b9f41-3287-451b-6691-43e9a6c0910f/volume/xgboost-split_1619728204606/work/src/learner.cc:1061: Starting in XGBoost 1.3.0, the default evaluation metric used with the objective 'binary:logistic' was changed from 'error' to 'logloss'. Explicitly set eval_metric if you'd like to restore the old behavior.\n"
     ]
    },
    {
     "name": "stderr",
     "output_type": "stream",
     "text": [
      "/Users/chen/opt/anaconda3/lib/python3.8/site-packages/xgboost/sklearn.py:888: UserWarning: The use of label encoder in XGBClassifier is deprecated and will be removed in a future release. To remove this warning, do the following: 1) Pass option use_label_encoder=False when constructing XGBClassifier object; and 2) Encode your labels (y) as integers starting with 0, i.e. 0, 1, 2, ..., [num_class - 1].\n",
      "  warnings.warn(label_encoder_deprecation_msg, UserWarning)\n",
      "/Users/chen/opt/anaconda3/lib/python3.8/site-packages/xgboost/sklearn.py:888: UserWarning: The use of label encoder in XGBClassifier is deprecated and will be removed in a future release. To remove this warning, do the following: 1) Pass option use_label_encoder=False when constructing XGBClassifier object; and 2) Encode your labels (y) as integers starting with 0, i.e. 0, 1, 2, ..., [num_class - 1].\n",
      "  warnings.warn(label_encoder_deprecation_msg, UserWarning)\n"
     ]
    },
    {
     "name": "stdout",
     "output_type": "stream",
     "text": [
      "[00:36:18] WARNING: /opt/concourse/worker/volumes/live/7a2b9f41-3287-451b-6691-43e9a6c0910f/volume/xgboost-split_1619728204606/work/src/learner.cc:1061: Starting in XGBoost 1.3.0, the default evaluation metric used with the objective 'binary:logistic' was changed from 'error' to 'logloss'. Explicitly set eval_metric if you'd like to restore the old behavior.\n",
      "Thresh=0.036, n=8, Accuracy: 88.75%\n",
      "[00:36:18] WARNING: /opt/concourse/worker/volumes/live/7a2b9f41-3287-451b-6691-43e9a6c0910f/volume/xgboost-split_1619728204606/work/src/learner.cc:1061: Starting in XGBoost 1.3.0, the default evaluation metric used with the objective 'binary:logistic' was changed from 'error' to 'logloss'. Explicitly set eval_metric if you'd like to restore the old behavior.\n",
      "[00:36:18] WARNING: /opt/concourse/worker/volumes/live/7a2b9f41-3287-451b-6691-43e9a6c0910f/volume/xgboost-split_1619728204606/work/src/learner.cc:1061: Starting in XGBoost 1.3.0, the default evaluation metric used with the objective 'binary:logistic' was changed from 'error' to 'logloss'. Explicitly set eval_metric if you'd like to restore the old behavior.\n"
     ]
    },
    {
     "name": "stderr",
     "output_type": "stream",
     "text": [
      "/Users/chen/opt/anaconda3/lib/python3.8/site-packages/xgboost/sklearn.py:888: UserWarning: The use of label encoder in XGBClassifier is deprecated and will be removed in a future release. To remove this warning, do the following: 1) Pass option use_label_encoder=False when constructing XGBClassifier object; and 2) Encode your labels (y) as integers starting with 0, i.e. 0, 1, 2, ..., [num_class - 1].\n",
      "  warnings.warn(label_encoder_deprecation_msg, UserWarning)\n",
      "/Users/chen/opt/anaconda3/lib/python3.8/site-packages/xgboost/sklearn.py:888: UserWarning: The use of label encoder in XGBClassifier is deprecated and will be removed in a future release. To remove this warning, do the following: 1) Pass option use_label_encoder=False when constructing XGBClassifier object; and 2) Encode your labels (y) as integers starting with 0, i.e. 0, 1, 2, ..., [num_class - 1].\n",
      "  warnings.warn(label_encoder_deprecation_msg, UserWarning)\n"
     ]
    },
    {
     "name": "stdout",
     "output_type": "stream",
     "text": [
      "[00:36:18] WARNING: /opt/concourse/worker/volumes/live/7a2b9f41-3287-451b-6691-43e9a6c0910f/volume/xgboost-split_1619728204606/work/src/learner.cc:1061: Starting in XGBoost 1.3.0, the default evaluation metric used with the objective 'binary:logistic' was changed from 'error' to 'logloss'. Explicitly set eval_metric if you'd like to restore the old behavior.\n"
     ]
    },
    {
     "ename": "KeyboardInterrupt",
     "evalue": "",
     "output_type": "error",
     "traceback": [
      "\u001b[0;31m---------------------------------------------------------------------------\u001b[0m",
      "\u001b[0;31mKeyboardInterrupt\u001b[0m                         Traceback (most recent call last)",
      "\u001b[0;32m<ipython-input-11-56df193ce3a2>\u001b[0m in \u001b[0;36m<module>\u001b[0;34m\u001b[0m\n\u001b[1;32m     12\u001b[0m         \u001b[0mselection\u001b[0m \u001b[0;34m=\u001b[0m \u001b[0mSelectFromModel\u001b[0m\u001b[0;34m(\u001b[0m\u001b[0mxgbmodel\u001b[0m\u001b[0;34m,\u001b[0m \u001b[0mthreshold\u001b[0m\u001b[0;34m=\u001b[0m\u001b[0mthresh\u001b[0m\u001b[0;34m,\u001b[0m \u001b[0mprefit\u001b[0m\u001b[0;34m=\u001b[0m\u001b[0;32mTrue\u001b[0m\u001b[0;34m)\u001b[0m\u001b[0;34m\u001b[0m\u001b[0;34m\u001b[0m\u001b[0m\n\u001b[1;32m     13\u001b[0m         \u001b[0mselect_train_X\u001b[0m \u001b[0;34m=\u001b[0m \u001b[0mselection\u001b[0m\u001b[0;34m.\u001b[0m\u001b[0mtransform\u001b[0m\u001b[0;34m(\u001b[0m\u001b[0mX_train_union\u001b[0m\u001b[0;34m[\u001b[0m\u001b[0mi\u001b[0m\u001b[0;34m]\u001b[0m\u001b[0;34m)\u001b[0m\u001b[0;34m\u001b[0m\u001b[0;34m\u001b[0m\u001b[0m\n\u001b[0;32m---> 14\u001b[0;31m         \u001b[0mselect_test_X\u001b[0m\u001b[0;34m=\u001b[0m\u001b[0mselection\u001b[0m\u001b[0;34m.\u001b[0m\u001b[0mtransform\u001b[0m\u001b[0;34m(\u001b[0m\u001b[0mX_test_union\u001b[0m\u001b[0;34m[\u001b[0m\u001b[0mi\u001b[0m\u001b[0;34m]\u001b[0m\u001b[0;34m)\u001b[0m\u001b[0;34m\u001b[0m\u001b[0;34m\u001b[0m\u001b[0m\n\u001b[0m\u001b[1;32m     15\u001b[0m \u001b[0;34m\u001b[0m\u001b[0m\n\u001b[1;32m     16\u001b[0m         \u001b[0mselection_model\u001b[0m \u001b[0;34m=\u001b[0m \u001b[0mXGBClassifier\u001b[0m\u001b[0;34m(\u001b[0m\u001b[0muse_label_encoder\u001b[0m\u001b[0;34m=\u001b[0m\u001b[0;32mTrue\u001b[0m\u001b[0;34m)\u001b[0m\u001b[0;34m\u001b[0m\u001b[0;34m\u001b[0m\u001b[0m\n",
      "\u001b[0;32m~/opt/anaconda3/lib/python3.8/site-packages/sklearn/feature_selection/_base.py\u001b[0m in \u001b[0;36mtransform\u001b[0;34m(self, X)\u001b[0m\n\u001b[1;32m     86\u001b[0m             \u001b[0mforce_all_finite\u001b[0m\u001b[0;34m=\u001b[0m\u001b[0;32mnot\u001b[0m \u001b[0m_safe_tags\u001b[0m\u001b[0;34m(\u001b[0m\u001b[0mself\u001b[0m\u001b[0;34m,\u001b[0m \u001b[0mkey\u001b[0m\u001b[0;34m=\u001b[0m\u001b[0;34m\"allow_nan\"\u001b[0m\u001b[0;34m)\u001b[0m\u001b[0;34m,\u001b[0m\u001b[0;34m\u001b[0m\u001b[0;34m\u001b[0m\u001b[0m\n\u001b[1;32m     87\u001b[0m         )\n\u001b[0;32m---> 88\u001b[0;31m         \u001b[0mmask\u001b[0m \u001b[0;34m=\u001b[0m \u001b[0mself\u001b[0m\u001b[0;34m.\u001b[0m\u001b[0mget_support\u001b[0m\u001b[0;34m(\u001b[0m\u001b[0;34m)\u001b[0m\u001b[0;34m\u001b[0m\u001b[0;34m\u001b[0m\u001b[0m\n\u001b[0m\u001b[1;32m     89\u001b[0m         \u001b[0;32mif\u001b[0m \u001b[0;32mnot\u001b[0m \u001b[0mmask\u001b[0m\u001b[0;34m.\u001b[0m\u001b[0many\u001b[0m\u001b[0;34m(\u001b[0m\u001b[0;34m)\u001b[0m\u001b[0;34m:\u001b[0m\u001b[0;34m\u001b[0m\u001b[0;34m\u001b[0m\u001b[0m\n\u001b[1;32m     90\u001b[0m             warn(\"No features were selected: either the data is\"\n",
      "\u001b[0;32m~/opt/anaconda3/lib/python3.8/site-packages/sklearn/feature_selection/_base.py\u001b[0m in \u001b[0;36mget_support\u001b[0;34m(self, indices)\u001b[0m\n\u001b[1;32m     50\u001b[0m             \u001b[0mvalues\u001b[0m \u001b[0mare\u001b[0m \u001b[0mindices\u001b[0m \u001b[0minto\u001b[0m \u001b[0mthe\u001b[0m \u001b[0minput\u001b[0m \u001b[0mfeature\u001b[0m \u001b[0mvector\u001b[0m\u001b[0;34m.\u001b[0m\u001b[0;34m\u001b[0m\u001b[0;34m\u001b[0m\u001b[0m\n\u001b[1;32m     51\u001b[0m         \"\"\"\n\u001b[0;32m---> 52\u001b[0;31m         \u001b[0mmask\u001b[0m \u001b[0;34m=\u001b[0m \u001b[0mself\u001b[0m\u001b[0;34m.\u001b[0m\u001b[0m_get_support_mask\u001b[0m\u001b[0;34m(\u001b[0m\u001b[0;34m)\u001b[0m\u001b[0;34m\u001b[0m\u001b[0;34m\u001b[0m\u001b[0m\n\u001b[0m\u001b[1;32m     53\u001b[0m         \u001b[0;32mreturn\u001b[0m \u001b[0mmask\u001b[0m \u001b[0;32mif\u001b[0m \u001b[0;32mnot\u001b[0m \u001b[0mindices\u001b[0m \u001b[0;32melse\u001b[0m \u001b[0mnp\u001b[0m\u001b[0;34m.\u001b[0m\u001b[0mwhere\u001b[0m\u001b[0;34m(\u001b[0m\u001b[0mmask\u001b[0m\u001b[0;34m)\u001b[0m\u001b[0;34m[\u001b[0m\u001b[0;36m0\u001b[0m\u001b[0;34m]\u001b[0m\u001b[0;34m\u001b[0m\u001b[0;34m\u001b[0m\u001b[0m\n\u001b[1;32m     54\u001b[0m \u001b[0;34m\u001b[0m\u001b[0m\n",
      "\u001b[0;32m~/opt/anaconda3/lib/python3.8/site-packages/sklearn/feature_selection/_from_model.py\u001b[0m in \u001b[0;36m_get_support_mask\u001b[0;34m(self)\u001b[0m\n\u001b[1;32m    187\u001b[0m                              \u001b[0;34m' \"prefit=True\" while passing the fitted'\u001b[0m\u001b[0;34m\u001b[0m\u001b[0;34m\u001b[0m\u001b[0m\n\u001b[1;32m    188\u001b[0m                              ' estimator to the constructor.')\n\u001b[0;32m--> 189\u001b[0;31m         scores = _get_feature_importances(\n\u001b[0m\u001b[1;32m    190\u001b[0m             \u001b[0mestimator\u001b[0m\u001b[0;34m=\u001b[0m\u001b[0mestimator\u001b[0m\u001b[0;34m,\u001b[0m \u001b[0mgetter\u001b[0m\u001b[0;34m=\u001b[0m\u001b[0mself\u001b[0m\u001b[0;34m.\u001b[0m\u001b[0mimportance_getter\u001b[0m\u001b[0;34m,\u001b[0m\u001b[0;34m\u001b[0m\u001b[0;34m\u001b[0m\u001b[0m\n\u001b[1;32m    191\u001b[0m             transform_func='norm', norm_order=self.norm_order)\n",
      "\u001b[0;32m~/opt/anaconda3/lib/python3.8/site-packages/sklearn/feature_selection/_base.py\u001b[0m in \u001b[0;36m_get_feature_importances\u001b[0;34m(estimator, getter, transform_func, norm_order)\u001b[0m\n\u001b[1;32m    168\u001b[0m             \u001b[0;32mif\u001b[0m \u001b[0mhasattr\u001b[0m\u001b[0;34m(\u001b[0m\u001b[0mestimator\u001b[0m\u001b[0;34m,\u001b[0m \u001b[0;34m'coef_'\u001b[0m\u001b[0;34m)\u001b[0m\u001b[0;34m:\u001b[0m\u001b[0;34m\u001b[0m\u001b[0;34m\u001b[0m\u001b[0m\n\u001b[1;32m    169\u001b[0m                 \u001b[0mgetter\u001b[0m \u001b[0;34m=\u001b[0m \u001b[0mattrgetter\u001b[0m\u001b[0;34m(\u001b[0m\u001b[0;34m'coef_'\u001b[0m\u001b[0;34m)\u001b[0m\u001b[0;34m\u001b[0m\u001b[0;34m\u001b[0m\u001b[0m\n\u001b[0;32m--> 170\u001b[0;31m             \u001b[0;32melif\u001b[0m \u001b[0mhasattr\u001b[0m\u001b[0;34m(\u001b[0m\u001b[0mestimator\u001b[0m\u001b[0;34m,\u001b[0m \u001b[0;34m'feature_importances_'\u001b[0m\u001b[0;34m)\u001b[0m\u001b[0;34m:\u001b[0m\u001b[0;34m\u001b[0m\u001b[0;34m\u001b[0m\u001b[0m\n\u001b[0m\u001b[1;32m    171\u001b[0m                 \u001b[0mgetter\u001b[0m \u001b[0;34m=\u001b[0m \u001b[0mattrgetter\u001b[0m\u001b[0;34m(\u001b[0m\u001b[0;34m'feature_importances_'\u001b[0m\u001b[0;34m)\u001b[0m\u001b[0;34m\u001b[0m\u001b[0;34m\u001b[0m\u001b[0m\n\u001b[1;32m    172\u001b[0m             \u001b[0;32melse\u001b[0m\u001b[0;34m:\u001b[0m\u001b[0;34m\u001b[0m\u001b[0;34m\u001b[0m\u001b[0m\n",
      "\u001b[0;32m~/opt/anaconda3/lib/python3.8/site-packages/xgboost/sklearn.py\u001b[0m in \u001b[0;36mfeature_importances_\u001b[0;34m(self)\u001b[0m\n\u001b[1;32m    740\u001b[0m                 .format(self.booster))\n\u001b[1;32m    741\u001b[0m         \u001b[0mb\u001b[0m \u001b[0;34m=\u001b[0m \u001b[0mself\u001b[0m\u001b[0;34m.\u001b[0m\u001b[0mget_booster\u001b[0m\u001b[0;34m(\u001b[0m\u001b[0;34m)\u001b[0m\u001b[0;34m\u001b[0m\u001b[0;34m\u001b[0m\u001b[0m\n\u001b[0;32m--> 742\u001b[0;31m         \u001b[0mscore\u001b[0m \u001b[0;34m=\u001b[0m \u001b[0mb\u001b[0m\u001b[0;34m.\u001b[0m\u001b[0mget_score\u001b[0m\u001b[0;34m(\u001b[0m\u001b[0mimportance_type\u001b[0m\u001b[0;34m=\u001b[0m\u001b[0mself\u001b[0m\u001b[0;34m.\u001b[0m\u001b[0mimportance_type\u001b[0m\u001b[0;34m)\u001b[0m\u001b[0;34m\u001b[0m\u001b[0;34m\u001b[0m\u001b[0m\n\u001b[0m\u001b[1;32m    743\u001b[0m         \u001b[0mall_features\u001b[0m \u001b[0;34m=\u001b[0m \u001b[0;34m[\u001b[0m\u001b[0mscore\u001b[0m\u001b[0;34m.\u001b[0m\u001b[0mget\u001b[0m\u001b[0;34m(\u001b[0m\u001b[0mf\u001b[0m\u001b[0;34m,\u001b[0m \u001b[0;36m0.\u001b[0m\u001b[0;34m)\u001b[0m \u001b[0;32mfor\u001b[0m \u001b[0mf\u001b[0m \u001b[0;32min\u001b[0m \u001b[0mb\u001b[0m\u001b[0;34m.\u001b[0m\u001b[0mfeature_names\u001b[0m\u001b[0;34m]\u001b[0m\u001b[0;34m\u001b[0m\u001b[0;34m\u001b[0m\u001b[0m\n\u001b[1;32m    744\u001b[0m         \u001b[0mall_features\u001b[0m \u001b[0;34m=\u001b[0m \u001b[0mnp\u001b[0m\u001b[0;34m.\u001b[0m\u001b[0marray\u001b[0m\u001b[0;34m(\u001b[0m\u001b[0mall_features\u001b[0m\u001b[0;34m,\u001b[0m \u001b[0mdtype\u001b[0m\u001b[0;34m=\u001b[0m\u001b[0mnp\u001b[0m\u001b[0;34m.\u001b[0m\u001b[0mfloat32\u001b[0m\u001b[0;34m)\u001b[0m\u001b[0;34m\u001b[0m\u001b[0;34m\u001b[0m\u001b[0m\n",
      "\u001b[0;32m~/opt/anaconda3/lib/python3.8/site-packages/xgboost/core.py\u001b[0m in \u001b[0;36mget_score\u001b[0;34m(self, fmap, importance_type)\u001b[0m\n\u001b[1;32m   1911\u001b[0m             \u001b[0maverage_over_splits\u001b[0m \u001b[0;34m=\u001b[0m \u001b[0;32mFalse\u001b[0m\u001b[0;34m\u001b[0m\u001b[0;34m\u001b[0m\u001b[0m\n\u001b[1;32m   1912\u001b[0m \u001b[0;34m\u001b[0m\u001b[0m\n\u001b[0;32m-> 1913\u001b[0;31m         \u001b[0mtrees\u001b[0m \u001b[0;34m=\u001b[0m \u001b[0mself\u001b[0m\u001b[0;34m.\u001b[0m\u001b[0mget_dump\u001b[0m\u001b[0;34m(\u001b[0m\u001b[0mfmap\u001b[0m\u001b[0;34m,\u001b[0m \u001b[0mwith_stats\u001b[0m\u001b[0;34m=\u001b[0m\u001b[0;32mTrue\u001b[0m\u001b[0;34m)\u001b[0m\u001b[0;34m\u001b[0m\u001b[0;34m\u001b[0m\u001b[0m\n\u001b[0m\u001b[1;32m   1914\u001b[0m \u001b[0;34m\u001b[0m\u001b[0m\n\u001b[1;32m   1915\u001b[0m         \u001b[0mimportance_type\u001b[0m \u001b[0;34m+=\u001b[0m \u001b[0;34m'='\u001b[0m\u001b[0;34m\u001b[0m\u001b[0;34m\u001b[0m\u001b[0m\n",
      "\u001b[0;32m~/opt/anaconda3/lib/python3.8/site-packages/xgboost/core.py\u001b[0m in \u001b[0;36mget_dump\u001b[0;34m(self, fmap, with_stats, dump_format)\u001b[0m\n\u001b[1;32m   1802\u001b[0m             \u001b[0;32melse\u001b[0m\u001b[0;34m:\u001b[0m\u001b[0;34m\u001b[0m\u001b[0;34m\u001b[0m\u001b[0m\n\u001b[1;32m   1803\u001b[0m                 \u001b[0mftype\u001b[0m \u001b[0;34m=\u001b[0m \u001b[0mfrom_pystr_to_cstr\u001b[0m\u001b[0;34m(\u001b[0m\u001b[0mself\u001b[0m\u001b[0;34m.\u001b[0m\u001b[0mfeature_types\u001b[0m\u001b[0;34m)\u001b[0m\u001b[0;34m\u001b[0m\u001b[0;34m\u001b[0m\u001b[0m\n\u001b[0;32m-> 1804\u001b[0;31m             _check_call(_LIB.XGBoosterDumpModelExWithFeatures(\n\u001b[0m\u001b[1;32m   1805\u001b[0m                 \u001b[0mself\u001b[0m\u001b[0;34m.\u001b[0m\u001b[0mhandle\u001b[0m\u001b[0;34m,\u001b[0m\u001b[0;34m\u001b[0m\u001b[0;34m\u001b[0m\u001b[0m\n\u001b[1;32m   1806\u001b[0m                 \u001b[0mctypes\u001b[0m\u001b[0;34m.\u001b[0m\u001b[0mc_int\u001b[0m\u001b[0;34m(\u001b[0m\u001b[0mflen\u001b[0m\u001b[0;34m)\u001b[0m\u001b[0;34m,\u001b[0m\u001b[0;34m\u001b[0m\u001b[0;34m\u001b[0m\u001b[0m\n",
      "\u001b[0;31mKeyboardInterrupt\u001b[0m: "
     ]
    }
   ],
   "source": [
    "##删基因\n",
    "#从important score数值大的开始取 看取到多少 到的一个差不多的accuracy \n",
    "#################\n",
    "##union on xgbmodel\n",
    "xgbmodel= XGBClassifier(use_label_encoder=True)\n",
    "xgbmodel.fit(whole_union_X,whole_union_y)\n",
    "thresholds = sorted(xgbmodel.feature_importances_,reverse = True )\n",
    "for thresh in thresholds:\n",
    "    \n",
    "    accuracy=[]\n",
    "    for i in range(4):\n",
    "        selection = SelectFromModel(xgbmodel, threshold=thresh, prefit=True)\n",
    "        select_train_X = selection.transform(X_train_union[i])\n",
    "        select_test_X=selection.transform(X_test_union[i])\n",
    "    \n",
    "        selection_model = XGBClassifier(use_label_encoder=True)\n",
    "        selection_model.fit(select_train_X, y_train_union[i])\n",
    "        y_pred = selection_model.predict(select_test_X)\n",
    "        accuracy.append( accuracy_score(y_test_union[i], y_pred))\n",
    "    accu_all_fold=np.mean(accuracy)\n",
    "    print(\"Thresh=%.3f, n=%d, Accuracy: %.2f%%\" % (thresh, select_train_X.shape[1],accu_all_fold *100.0))\n",
    "    \n",
    "    \n",
    "##Thresh=0.060, n=5, Accuracy: 90.00%\n",
    "\n",
    "\n",
    "\n"
   ]
  },
  {
   "cell_type": "code",
   "execution_count": null,
   "id": "20dca16b",
   "metadata": {},
   "outputs": [],
   "source": [
    "##################\n",
    "##bird on random forest \n",
    "rfmodel= ensemble.RandomForestClassifier(oob_score = True,n_jobs = -1,random_state =0)\n",
    "\n",
    "rfmodel.fit(whole_union_X,whole_union_y)\n",
    "\n",
    "thresholds = sorted(rfmodel.feature_importances_,reverse = True )\n",
    "for thresh in thresholds:\n",
    "    # select features using threshold\n",
    "    \n",
    "    accuracy=[]\n",
    "    for i in range(4):\n",
    "        selection = SelectFromModel(rfmodel, threshold=thresh, prefit=True)\n",
    "        select_train_X = selection.transform(X_train_union[i])\n",
    "        select_test_X=selection.transform(X_test_union[i])\n",
    "    \n",
    "        selection_model = ensemble.RandomForestClassifier(oob_score = True,n_jobs = -1,random_state =0)\n",
    "        selection_model.fit(select_train_X, y_train_union[i])\n",
    "        y_pred = selection_model.predict(select_test_X)\n",
    "        accuracy.append( accuracy_score(y_test_union[i], y_pred))\n",
    "    accu_all_fold=np.mean(accuracy)\n",
    "    print(\"Thresh=%.3f, n=%d, Accuracy: %.2f%%\" % (thresh, select_train_X.shape[1],accu_all_fold *100.0))\n",
    "##    \n",
    "##   Thresh=0.048, n=5, Accuracy: 85.00%\n",
    "\n",
    "\n",
    "\n"
   ]
  },
  {
   "cell_type": "code",
   "execution_count": null,
   "id": "f461b228",
   "metadata": {},
   "outputs": [],
   "source": [
    "##################\n",
    "##union on GBDT\n",
    "gbdtmodel=ensemble.GradientBoostingClassifier()\n",
    "gbdtmodel.fit(whole_union_X,whole_union_y)\n",
    "\n",
    "thresholds = sorted(gbdtmodel.feature_importances_,reverse = True )\n",
    "for thresh in thresholds:\n",
    "    # select features using threshold\n",
    "    \n",
    "    \n",
    "   \n",
    "    accuracy=[]\n",
    "    for i in range(4):\n",
    "        selection = SelectFromModel(gbdtmodel, threshold=thresh, prefit=True)\n",
    "        select_train_X = selection.transform(X_train_union[i])\n",
    "        select_test_X=selection.transform(X_test_union[i])\n",
    "    \n",
    "        selection_model = ensemble.GradientBoostingClassifier()\n",
    "        selection_model.fit(select_train_X, y_train_union[i])\n",
    "        y_pred = selection_model.predict(select_test_X)\n",
    "        accuracy.append( accuracy_score(y_test_union[i], y_pred))\n",
    "    accu_all_fold=np.mean(accuracy)\n",
    "    print(\"Thresh=%.3f, n=%d, Accuracy: %.2f%%\" % (thresh, select_test_X.shape[1],accu_all_fold *100.0))\n",
    "  ##Thresh=0.091, n=3, Accuracy: 88.75%\n",
    "  \n"
   ]
  },
  {
   "cell_type": "code",
   "execution_count": 12,
   "id": "00beae1b",
   "metadata": {},
   "outputs": [
    {
     "name": "stdout",
     "output_type": "stream",
     "text": [
      "['AADAC', 'KRT7', 'HOXC9', 'CCL20', 'HOXD4']\n",
      "1808\n",
      "5631\n",
      "5642\n",
      "1278\n",
      "1211\n",
      "[45, 87, 2, 42, 26]\n"
     ]
    }
   ],
   "source": [
    "\n",
    "\n",
    "##搞出来被选的genes 的list 然后画图\n",
    "##union_on_XGBOOST\n",
    "\n",
    "name_of_selected_genes_bird_xgb=[i for i in xgb_birdgene_import_important_adasyn.keys()][:5]\n",
    "print(name_of_selected_genes_bird_xgb)\n",
    "\n",
    "index_list=[]\n",
    "for i in name_of_selected_genes_bird_xgb:\n",
    "    index_list.append(int(insert_035_88[insert_035_88.values == i].index.values.tolist()[0])\n",
    ")\n",
    "\n",
    "\n",
    "location_list_bird_xgb=[]\n",
    "for i in index_list:\n",
    "    print(i)\n",
    "    location_list_bird_xgb.append(insert_035_88.index.get_loc(i))\n",
    "print(location_list_bird_xgb)"
   ]
  },
  {
   "cell_type": "code",
   "execution_count": 13,
   "id": "b7d3d8e5",
   "metadata": {},
   "outputs": [
    {
     "name": "stderr",
     "output_type": "stream",
     "text": [
      "/Users/chen/opt/anaconda3/lib/python3.8/site-packages/xgboost/sklearn.py:888: UserWarning: The use of label encoder in XGBClassifier is deprecated and will be removed in a future release. To remove this warning, do the following: 1) Pass option use_label_encoder=False when constructing XGBClassifier object; and 2) Encode your labels (y) as integers starting with 0, i.e. 0, 1, 2, ..., [num_class - 1].\n",
      "  warnings.warn(label_encoder_deprecation_msg, UserWarning)\n",
      "/Users/chen/opt/anaconda3/lib/python3.8/site-packages/sklearn/utils/validation.py:63: DataConversionWarning: A column-vector y was passed when a 1d array was expected. Please change the shape of y to (n_samples, ), for example using ravel().\n",
      "  return f(*args, **kwargs)\n"
     ]
    },
    {
     "name": "stdout",
     "output_type": "stream",
     "text": [
      "[00:36:24] WARNING: /opt/concourse/worker/volumes/live/7a2b9f41-3287-451b-6691-43e9a6c0910f/volume/xgboost-split_1619728204606/work/src/learner.cc:1061: Starting in XGBoost 1.3.0, the default evaluation metric used with the objective 'binary:logistic' was changed from 'error' to 'logloss'. Explicitly set eval_metric if you'd like to restore the old behavior.\n"
     ]
    },
    {
     "data": {
      "image/png": "[encoded data removed]",
      "text/plain": [
       "<Figure size 360x288 with 1 Axes>"
      ]
     },
     "metadata": {
      "needs_background": "light"
     },
     "output_type": "display_data"
    }
   ],
   "source": [
    "##用 whole data 画图 \n",
    "\n",
    "xgbmodel.fit(whole_union_X[:,location_list_bird_xgb], whole_union_y)\n",
    "importance_after_xgb = xgbmodel.feature_importances_\n",
    "importance_sorted_bird_xgb=sorted(importance_after_xgb,reverse=True)\n",
    "\n",
    "\n",
    "plt.figure(figsize=(5,4))\n",
    "union_liver_xgb_2gene=['AADAC', 'TBX4', 'HOXC9', 'CCL20', 'TRPM6']\n",
    "\n",
    "plt.bar(union_liver_xgb_2gene, importance_sorted_bird_xgb)\n",
    "plt.ylabel('importance score', fontsize=16)\n",
    "plt.xlabel('list of genes', fontsize=16)\n",
    "plt.axis([-1, 5, 0, 0.75])\n",
    "\n",
    "plt.savefig('intersect_liver_xgb_5genes_after.jpg')"
   ]
  },
  {
   "cell_type": "code",
   "execution_count": 21,
   "id": "56bb26f3",
   "metadata": {},
   "outputs": [
    {
     "name": "stdout",
     "output_type": "stream",
     "text": [
      "['AADAC', 'HSD17B2', 'KRT7', 'CDH19', 'UGT1A6']\n",
      "1808\n",
      "6971\n",
      "5631\n",
      "12665\n",
      "1296\n",
      "[45, 56, 87, 68, 44]\n"
     ]
    }
   ],
   "source": [
    "name_of_selected_genes_bird_rf=[i for i in rf_birdgene_import_important_adasyn.keys()][:5]\n",
    "print(name_of_selected_genes_bird_rf)\n",
    "\n",
    "index_list=[]\n",
    "for i in name_of_selected_genes_bird_rf:\n",
    "    index_list.append(int(insert_035_88[insert_035_88.values == i].index.values.tolist()[0])\n",
    ")\n",
    "\n",
    "    \n",
    "   \n",
    "location_list_bird_RF=[]\n",
    "for i in index_list:\n",
    "    print(i)\n",
    "    location_list_bird_RF.append(insert_035_88.index.get_loc(i))\n",
    "print(location_list_bird_RF)"
   ]
  },
  {
   "cell_type": "code",
   "execution_count": 28,
   "id": "5ee8b3db",
   "metadata": {},
   "outputs": [
    {
     "name": "stderr",
     "output_type": "stream",
     "text": [
      "<ipython-input-28-36ae3a3dd8ca>:1: DataConversionWarning: A column-vector y was passed when a 1d array was expected. Please change the shape of y to (n_samples,), for example using ravel().\n",
      "  rfmodel.fit(whole_union_X[:,location_list_bird_RF], whole_union_y)\n"
     ]
    },
    {
     "name": "stdout",
     "output_type": "stream",
     "text": [
      "5\n"
     ]
    },
    {
     "data": {
      "image/png": "[encoded data removed]",
      "text/plain": [
       "<Figure size 360x288 with 1 Axes>"
      ]
     },
     "metadata": {
      "needs_background": "light"
     },
     "output_type": "display_data"
    }
   ],
   "source": [
    "rfmodel.fit(whole_union_X[:,location_list_bird_RF], whole_union_y)\n",
    "importance_adasyn = rfmodel.feature_importances_\n",
    "importance_sorted=sorted(importance_adasyn,reverse=True)\n",
    "t_adasyn = dict((x, y) for x, y in rf_birdgene_import_important)\n",
    "\n",
    "print(len(importance_sorted))\n",
    "plt.figure(figsize=(5,4))\n",
    "union_Liver_rf_1gene=['AADAC', 'HSD17B2', 'KRT7', 'CDH19', 'UGT1A6']\n",
    "plt.bar(union_Liver_rf_1gene, importance_sorted)\n",
    "plt.ylabel('importance score', fontsize=16)\n",
    "plt.xlabel('list of genes', fontsize=16)\n",
    "plt.axis([-1, 5, 0, 0.75])\n",
    "plt.savefig('intersect_rf_Liver 3genes_after.jpg')"
   ]
  },
  {
   "cell_type": "code",
   "execution_count": 23,
   "id": "835b7118",
   "metadata": {},
   "outputs": [
    {
     "name": "stdout",
     "output_type": "stream",
     "text": [
      "['AADAC', 'CCL20', 'TBX4']\n",
      "1808\n",
      "1278\n",
      "7380\n",
      "[45, 42, 34]\n"
     ]
    }
   ],
   "source": [
    "name_of_selected_genes_bird_gbdt=[i for i in gbdt_birdgene_import_important_adasyn.keys()][:3]\n",
    "print(name_of_selected_genes_bird_gbdt)\n",
    "\n",
    "index_list=[]\n",
    "for i in name_of_selected_genes_bird_gbdt:\n",
    "    index_list.append(int(insert_035_88[insert_035_88.values == i].index.values.tolist()[0])\n",
    ")\n",
    "\n",
    "    \n",
    "   \n",
    "location_list_bird_gbdt=[]\n",
    "for i in index_list:\n",
    "    print(i)\n",
    "    location_list_bird_gbdt.append(insert_035_88.index.get_loc(i))\n",
    "print(location_list_bird_gbdt)"
   ]
  },
  {
   "cell_type": "code",
   "execution_count": 26,
   "id": "1eca9946",
   "metadata": {},
   "outputs": [
    {
     "name": "stderr",
     "output_type": "stream",
     "text": [
      "/Users/chen/opt/anaconda3/lib/python3.8/site-packages/sklearn/utils/validation.py:63: DataConversionWarning: A column-vector y was passed when a 1d array was expected. Please change the shape of y to (n_samples, ), for example using ravel().\n",
      "  return f(*args, **kwargs)\n"
     ]
    },
    {
     "name": "stdout",
     "output_type": "stream",
     "text": [
      "3\n"
     ]
    },
    {
     "data": {
      "image/png": "[encoded data removed]",
      "text/plain": [
       "<Figure size 360x288 with 1 Axes>"
      ]
     },
     "metadata": {
      "needs_background": "light"
     },
     "output_type": "display_data"
    }
   ],
   "source": [
    "gbdtmodel.fit(whole_union_X[:,location_list_bird_gbdt], whole_union_y)\n",
    "importance_adasyn = gbdtmodel.feature_importances_\n",
    "importance_sorted=sorted(importance_adasyn,reverse=True)\n",
    "\n",
    "print(len(importance_sorted))\n",
    "plt.figure(figsize=(5,4))\n",
    "bird_gbdt_8gene=['AADAC', 'CCL20', 'TBX4']\n",
    "\n",
    "\n",
    "plt.bar(bird_gbdt_8gene, importance_sorted)\n",
    "plt.ylabel('importance score', fontsize=16)\n",
    "plt.xlabel('list of genes', fontsize=16)\n",
    "plt.axis([-1, 5, 0, 0.75])\n",
    "\n",
    "plt.savefig('union_gbdt_Liver 2genes_after.jpg')"
   ]
  },
  {
   "cell_type": "code",
   "execution_count": 31,
   "id": "65e73128",
   "metadata": {},
   "outputs": [
    {
     "name": "stdout",
     "output_type": "stream",
     "text": [
      "[22:02:28] WARNING: /opt/concourse/worker/volumes/live/7a2b9f41-3287-451b-6691-43e9a6c0910f/volume/xgboost-split_1619728204606/work/src/learner.cc:1061: Starting in XGBoost 1.3.0, the default evaluation metric used with the objective 'binary:logistic' was changed from 'error' to 'logloss'. Explicitly set eval_metric if you'd like to restore the old behavior.\n"
     ]
    },
    {
     "name": "stderr",
     "output_type": "stream",
     "text": [
      "/Users/chen/opt/anaconda3/lib/python3.8/site-packages/xgboost/sklearn.py:888: UserWarning: The use of label encoder in XGBClassifier is deprecated and will be removed in a future release. To remove this warning, do the following: 1) Pass option use_label_encoder=False when constructing XGBClassifier object; and 2) Encode your labels (y) as integers starting with 0, i.e. 0, 1, 2, ..., [num_class - 1].\n",
      "  warnings.warn(label_encoder_deprecation_msg, UserWarning)\n"
     ]
    },
    {
     "name": "stdout",
     "output_type": "stream",
     "text": [
      "[22:02:29] WARNING: /opt/concourse/worker/volumes/live/7a2b9f41-3287-451b-6691-43e9a6c0910f/volume/xgboost-split_1619728204606/work/src/learner.cc:1061: Starting in XGBoost 1.3.0, the default evaluation metric used with the objective 'binary:logistic' was changed from 'error' to 'logloss'. Explicitly set eval_metric if you'd like to restore the old behavior.\n"
     ]
    },
    {
     "name": "stderr",
     "output_type": "stream",
     "text": [
      "/Users/chen/opt/anaconda3/lib/python3.8/site-packages/xgboost/sklearn.py:888: UserWarning: The use of label encoder in XGBClassifier is deprecated and will be removed in a future release. To remove this warning, do the following: 1) Pass option use_label_encoder=False when constructing XGBClassifier object; and 2) Encode your labels (y) as integers starting with 0, i.e. 0, 1, 2, ..., [num_class - 1].\n",
      "  warnings.warn(label_encoder_deprecation_msg, UserWarning)\n"
     ]
    },
    {
     "name": "stdout",
     "output_type": "stream",
     "text": [
      "[22:02:29] WARNING: /opt/concourse/worker/volumes/live/7a2b9f41-3287-451b-6691-43e9a6c0910f/volume/xgboost-split_1619728204606/work/src/learner.cc:1061: Starting in XGBoost 1.3.0, the default evaluation metric used with the objective 'binary:logistic' was changed from 'error' to 'logloss'. Explicitly set eval_metric if you'd like to restore the old behavior.\n"
     ]
    },
    {
     "name": "stderr",
     "output_type": "stream",
     "text": [
      "/Users/chen/opt/anaconda3/lib/python3.8/site-packages/xgboost/sklearn.py:888: UserWarning: The use of label encoder in XGBClassifier is deprecated and will be removed in a future release. To remove this warning, do the following: 1) Pass option use_label_encoder=False when constructing XGBClassifier object; and 2) Encode your labels (y) as integers starting with 0, i.e. 0, 1, 2, ..., [num_class - 1].\n",
      "  warnings.warn(label_encoder_deprecation_msg, UserWarning)\n"
     ]
    },
    {
     "name": "stdout",
     "output_type": "stream",
     "text": [
      "[22:02:30] WARNING: /opt/concourse/worker/volumes/live/7a2b9f41-3287-451b-6691-43e9a6c0910f/volume/xgboost-split_1619728204606/work/src/learner.cc:1061: Starting in XGBoost 1.3.0, the default evaluation metric used with the objective 'binary:logistic' was changed from 'error' to 'logloss'. Explicitly set eval_metric if you'd like to restore the old behavior.\n",
      "Accuracy xgb: 91.25%\n",
      "Accuracy rf: 82.50%\n",
      "Accuracy gbdt: 88.75%\n"
     ]
    }
   ],
   "source": [
    "##confusion matrix balanced data \n",
    "#\n",
    "#rfmodel = ensemble.RandomForestClassifier( oob_score = True,n_jobs = -1,random_state =0)\n",
    "#gbdtmodel\n",
    "#xgbmodel\n",
    "y_pred_xgb=[]\n",
    "y_pred_rf=[]\n",
    "y_pred_gbdt=[]\n",
    "accuracy_xgb=[]\n",
    "accuracy_rf=[]\n",
    "accuracy_gbdt=[]\n",
    "y_test_list=[]\n",
    "pred_whole_list_xbg=[]\n",
    "pred_whole_list_rf=[]\n",
    "pred_whole_list_gbdt=[]\n",
    "for i in range(4): \n",
    "    X_rf=X_train_union[i][:,location_list_bird_RF]\n",
    "    X_xgb=X_train_union[i][:,location_list_bird_xgb] ##因为筛出来的genes 都一样\n",
    "    X_gbdt=X_train_union[i][:,location_list_bird_gbdt]\n",
    "    y=y_train_union[i].ravel()\n",
    "    xgbmodel= XGBClassifier(use_label_encoder=True)\n",
    "\n",
    "    xgbmodel.fit(X_xgb,y)\n",
    "    rfmodel.fit(X_rf,y)\n",
    "    gbdtmodel.fit(X_gbdt,y)\n",
    "    \n",
    "   \n",
    "    \n",
    "    y_pred_xgb.append(xgbmodel.predict(X_test_union[i][:,location_list_bird_xgb]))\n",
    "    y_pred_rf.append(rfmodel.predict(X_test_union[i][:,location_list_bird_RF]))\n",
    "    y_pred_gbdt.append(gbdtmodel.predict(X_test_union[i][:,location_list_bird_gbdt]))\n",
    "\n",
    "    accuracy_xgb.append(accuracy_score(y_test_union[i], y_pred_xgb[i]))\n",
    "    accuracy_rf.append(accuracy_score(y_test_union[i], y_pred_rf[i]))\n",
    "    accuracy_gbdt.append(accuracy_score(y_test_union[i], y_pred_gbdt[i]))\n",
    "   \n",
    "    for j in range (len(y_test_union[i])):\n",
    "        y_test_list.append(int(y_test_union[i][j]))\n",
    "        \n",
    "        pred_whole_list_xbg.append(y_pred_xgb[i].tolist()[j])\n",
    "        pred_whole_list_rf.append(y_pred_rf[i].tolist()[j])\n",
    "        pred_whole_list_gbdt.append(y_pred_gbdt[i].tolist()[j])\n",
    "\n",
    "\n",
    "    \n",
    "    \n",
    "accuracy_total_xgb = np.mean(accuracy_xgb)\n",
    "accuracy_total_rf = np.mean(accuracy_rf)\n",
    "accuracy_total_gbdt = np.mean(accuracy_gbdt)\n",
    "\n",
    "\n",
    "\n",
    "\n",
    "print(\"Accuracy xgb: %.2f%%\" % (accuracy_total_xgb * 100.0))    \n",
    "print(\"Accuracy rf: %.2f%%\" % (accuracy_total_rf * 100.0))  \n",
    "print(\"Accuracy gbdt: %.2f%%\" % (accuracy_total_gbdt * 100.0))    \n",
    "\n",
    "\n"
   ]
  },
  {
   "cell_type": "code",
   "execution_count": 42,
   "id": "9f970622",
   "metadata": {},
   "outputs": [
    {
     "name": "stdout",
     "output_type": "stream",
     "text": [
      "[[35  5]\n",
      " [ 2 38]]\n",
      "for xgb [0.94594595 0.88372093]\n",
      "[0.875 0.95 ]\n",
      "[0.90909091 0.91566265]\n",
      "[[32  8]\n",
      " [ 6 34]]\n",
      "for rf [0.84210526 0.80952381]\n",
      "[0.8  0.85]\n",
      "[0.82051282 0.82926829]\n",
      "[[35  5]\n",
      " [ 4 36]]\n",
      "for gbdt [0.8974359  0.87804878]\n",
      "[0.875 0.9  ]\n",
      "[0.88607595 0.88888889]\n"
     ]
    },
    {
     "data": {
      "image/png": "[encoded data removed]",
      "text/plain": [
       "<Figure size 432x288 with 2 Axes>"
      ]
     },
     "metadata": {
      "needs_background": "light"
     },
     "output_type": "display_data"
    },
    {
     "data": {
      "image/png": "[encoded data removed]",
      "text/plain": [
       "<Figure size 432x288 with 2 Axes>"
      ]
     },
     "metadata": {
      "needs_background": "light"
     },
     "output_type": "display_data"
    },
    {
     "data": {
      "image/png": "[encoded data removed]",
      "text/plain": [
       "<Figure size 432x288 with 2 Axes>"
      ]
     },
     "metadata": {
      "needs_background": "light"
     },
     "output_type": "display_data"
    }
   ],
   "source": [
    "C_xgb=confusion_matrix(y_test_list, pred_whole_list_xbg,labels=[ 0.,1.])\n",
    "print(C_xgb)\n",
    "f,ax=plt.subplots()\n",
    "\n",
    "sns.heatmap(C_xgb,annot=True, fmt ='g',ax=ax,yticklabels =['Liver','Non-Liver']) #画热力图\n",
    "\n",
    "ax.set_title('Classification for Liver on balanced data') #标题\n",
    "ax.set_xlabel('predict') #x轴\n",
    "ax.set_ylabel('true') #y轴\n",
    "plt.savefig('xgb_union_Liver_bal.jpg')\n",
    "\n",
    "print('for xgb',precision_score(y_test_list, pred_whole_list_xbg, average=None)) \n",
    "print(recall_score(y_test_list, pred_whole_list_xbg, average=None))  \n",
    "print(f1_score(y_test_list, pred_whole_list_xbg, average=None)) \n",
    "\n",
    "C_rf=confusion_matrix(y_test_list, pred_whole_list_rf,labels=[ 0.,1.])\n",
    "print(C_rf)\n",
    "f,ax=plt.subplots()\n",
    "\n",
    "sns.heatmap(C_rf,annot=True, fmt ='g',ax=ax,yticklabels =['Liver','Non-Liver']) #画热力图\n",
    "\n",
    "ax.set_title('Classification for Liver on balanced data') #标题\n",
    "ax.set_xlabel('predict') #x轴\n",
    "ax.set_ylabel('true') #y轴\n",
    "plt.savefig('rf_union_Liver_bal.jpg')\n",
    "\n",
    "print('for rf',precision_score(y_test_list, pred_whole_list_rf, average=None)) \n",
    "print(recall_score(y_test_list, pred_whole_list_rf, average=None))  \n",
    "print(f1_score(y_test_list, pred_whole_list_rf, average=None)) \n",
    "\n",
    "C_gbdt=confusion_matrix(y_test_list, pred_whole_list_gbdt,labels=[ 0.,1.])\n",
    "print(C_gbdt)\n",
    "f,ax=plt.subplots()\n",
    "\n",
    "sns.heatmap(C_gbdt,annot=True, fmt ='g',ax=ax,yticklabels =['Liver','Non-Liver']) #画热力图\n",
    "\n",
    "ax.set_title('Classification for Liver on balanced data') #标题\n",
    "ax.set_xlabel('predict') #x轴\n",
    "ax.set_ylabel('true') #y轴\n",
    "plt.savefig('gbdt_union_pto_bal.jpg')\n",
    "\n",
    "print('for gbdt',precision_score(y_test_list, pred_whole_list_gbdt, average=None)) \n",
    "print(recall_score(y_test_list, pred_whole_list_gbdt, average=None))  \n",
    "print(f1_score(y_test_list, pred_whole_list_gbdt, average=None)) \n"
   ]
  },
  {
   "cell_type": "code",
   "execution_count": 43,
   "id": "f13e2570",
   "metadata": {},
   "outputs": [
    {
     "name": "stdout",
     "output_type": "stream",
     "text": [
      "(244, 89)\n",
      "[22:35:25] WARNING: /opt/concourse/worker/volumes/live/7a2b9f41-3287-451b-6691-43e9a6c0910f/volume/xgboost-split_1619728204606/work/src/learner.cc:1061: Starting in XGBoost 1.3.0, the default evaluation metric used with the objective 'binary:logistic' was changed from 'error' to 'logloss'. Explicitly set eval_metric if you'd like to restore the old behavior.\n"
     ]
    },
    {
     "name": "stderr",
     "output_type": "stream",
     "text": [
      "/Users/chen/opt/anaconda3/lib/python3.8/site-packages/xgboost/sklearn.py:888: UserWarning: The use of label encoder in XGBClassifier is deprecated and will be removed in a future release. To remove this warning, do the following: 1) Pass option use_label_encoder=False when constructing XGBClassifier object; and 2) Encode your labels (y) as integers starting with 0, i.e. 0, 1, 2, ..., [num_class - 1].\n",
      "  warnings.warn(label_encoder_deprecation_msg, UserWarning)\n",
      "/Users/chen/opt/anaconda3/lib/python3.8/site-packages/xgboost/sklearn.py:888: UserWarning: The use of label encoder in XGBClassifier is deprecated and will be removed in a future release. To remove this warning, do the following: 1) Pass option use_label_encoder=False when constructing XGBClassifier object; and 2) Encode your labels (y) as integers starting with 0, i.e. 0, 1, 2, ..., [num_class - 1].\n",
      "  warnings.warn(label_encoder_deprecation_msg, UserWarning)\n"
     ]
    },
    {
     "name": "stdout",
     "output_type": "stream",
     "text": [
      "[22:35:25] WARNING: /opt/concourse/worker/volumes/live/7a2b9f41-3287-451b-6691-43e9a6c0910f/volume/xgboost-split_1619728204606/work/src/learner.cc:1061: Starting in XGBoost 1.3.0, the default evaluation metric used with the objective 'binary:logistic' was changed from 'error' to 'logloss'. Explicitly set eval_metric if you'd like to restore the old behavior.\n"
     ]
    },
    {
     "name": "stderr",
     "output_type": "stream",
     "text": [
      "/Users/chen/opt/anaconda3/lib/python3.8/site-packages/xgboost/sklearn.py:888: UserWarning: The use of label encoder in XGBClassifier is deprecated and will be removed in a future release. To remove this warning, do the following: 1) Pass option use_label_encoder=False when constructing XGBClassifier object; and 2) Encode your labels (y) as integers starting with 0, i.e. 0, 1, 2, ..., [num_class - 1].\n",
      "  warnings.warn(label_encoder_deprecation_msg, UserWarning)\n"
     ]
    },
    {
     "name": "stdout",
     "output_type": "stream",
     "text": [
      "[22:35:26] WARNING: /opt/concourse/worker/volumes/live/7a2b9f41-3287-451b-6691-43e9a6c0910f/volume/xgboost-split_1619728204606/work/src/learner.cc:1061: Starting in XGBoost 1.3.0, the default evaluation metric used with the objective 'binary:logistic' was changed from 'error' to 'logloss'. Explicitly set eval_metric if you'd like to restore the old behavior.\n"
     ]
    },
    {
     "name": "stderr",
     "output_type": "stream",
     "text": [
      "/Users/chen/opt/anaconda3/lib/python3.8/site-packages/xgboost/sklearn.py:888: UserWarning: The use of label encoder in XGBClassifier is deprecated and will be removed in a future release. To remove this warning, do the following: 1) Pass option use_label_encoder=False when constructing XGBClassifier object; and 2) Encode your labels (y) as integers starting with 0, i.e. 0, 1, 2, ..., [num_class - 1].\n",
      "  warnings.warn(label_encoder_deprecation_msg, UserWarning)\n"
     ]
    },
    {
     "name": "stdout",
     "output_type": "stream",
     "text": [
      "[22:35:26] WARNING: /opt/concourse/worker/volumes/live/7a2b9f41-3287-451b-6691-43e9a6c0910f/volume/xgboost-split_1619728204606/work/src/learner.cc:1061: Starting in XGBoost 1.3.0, the default evaluation metric used with the objective 'binary:logistic' was changed from 'error' to 'logloss'. Explicitly set eval_metric if you'd like to restore the old behavior.\n",
      "244\n",
      "Accuracy xgb: 92.21%\n",
      "Accuracy rf: 93.03%\n",
      "Accuracy gbdt: 90.57%\n"
     ]
    }
   ],
   "source": [
    "##confusion matrix unbalanced data \n",
    "\n",
    "##gbdt\n",
    "#生成一个 0 1 classification的data set \n",
    "original_01=np.vstack((Liver_type,other_type_for_Liver))\n",
    "print(original_01.shape)\n",
    "skf  =StratifiedKFold(n_splits=4, random_state=0,shuffle=True)\n",
    "X=original_01\n",
    "\n",
    "y=original_01[:,-1]\n",
    "skf.get_n_splits(X, y)\n",
    "y_test_list = []\n",
    "pred_whole_list_xgb=[]\n",
    "pred_whole_list_rf=[]\n",
    "pred_whole_list_gbdt=[]\n",
    "\n",
    "\n",
    "for train_index, test_index in skf.split(X, y):\n",
    "    #print(\"TRAIN:\", train_index, \"TEST:\", test_index)\n",
    "    X_train, X_test = X[train_index], X[test_index]\n",
    "    y_train, y_test = y[train_index], y[test_index]\n",
    "    gbdtmodel.fit(X_train[:,location_list_bird_gbdt],y_train)\n",
    "    y_pred_gbdt = gbdtmodel.predict(X_test[:,location_list_bird_gbdt])\n",
    "    xgbmodel.fit(X_train[:,location_list_bird_xgb],y_train)\n",
    "    y_pred_xgb=xgbmodel.predict(X_test[:,location_list_bird_xgb])\n",
    "    rfmodel.fit(X_train[:,location_list_bird_RF],y_train)\n",
    "    y_pred_rf=rfmodel.predict(X_test[:,location_list_bird_RF])\n",
    "    \n",
    "    accuracy_xgb= accuracy_score(y_test, y_pred_xgb)\n",
    "    accuracy_rf=accuracy_score(y_test, y_pred_rf)\n",
    "    accuracy_gbdt=accuracy_score(y_test, y_pred_gbdt)\n",
    "    for i in range (len(y_test)):\n",
    "        y_test_list.append(int(y_test[i]))\n",
    "        #print('y_test',y_test_list)\n",
    "        ##Y-test_true  is y_test_list\n",
    "   # print(\"pred\",y_pred)\n",
    "        pred_whole_list_xgb.append(y_pred_xgb.tolist()[i])\n",
    "        pred_whole_list_rf.append(y_pred_rf.tolist()[i])\n",
    "        pred_whole_list_gbdt.append(y_pred_gbdt.tolist()[i])\n",
    "\n",
    "\n",
    "    \n",
    "    \n",
    "print(len(pred_whole_list_xgb))\n",
    "accuracy_all_xgb = accuracy_score(y_test_list, pred_whole_list_xgb)\n",
    "accuracy_all_rf = accuracy_score(y_test_list, pred_whole_list_rf)\n",
    "accuracy_all_gbdt = accuracy_score(y_test_list, pred_whole_list_gbdt)\n",
    "\n",
    "\n",
    "print(\"Accuracy xgb: %.2f%%\" % (accuracy_all_xgb * 100.0))    \n",
    "print(\"Accuracy rf: %.2f%%\" % (accuracy_all_rf * 100.0))    \n",
    "print(\"Accuracy gbdt: %.2f%%\" % (accuracy_all_gbdt * 100.0))    \n",
    "\n",
    "\n",
    "\n",
    "\n",
    "\n",
    "\n",
    "\n"
   ]
  },
  {
   "cell_type": "code",
   "execution_count": 44,
   "id": "4d25e851",
   "metadata": {},
   "outputs": [
    {
     "name": "stdout",
     "output_type": "stream",
     "text": [
      "[[ 29  11]\n",
      " [  8 196]]\n",
      "for xgb [0.78378378 0.9468599 ]\n",
      "[0.725      0.96078431]\n",
      "[0.75324675 0.95377129]\n",
      "[[ 28  12]\n",
      " [  5 199]]\n",
      "for rf [0.84848485 0.94312796]\n",
      "[0.7       0.9754902]\n",
      "[0.76712329 0.95903614]\n",
      "[[ 29  11]\n",
      " [ 12 192]]\n",
      "for gbdt [0.70731707 0.94581281]\n",
      "[0.725      0.94117647]\n",
      "[0.71604938 0.94348894]\n"
     ]
    },
    {
     "data": {
      "image/png": "[encoded data removed]",
      "text/plain": [
       "<Figure size 432x288 with 2 Axes>"
      ]
     },
     "metadata": {
      "needs_background": "light"
     },
     "output_type": "display_data"
    },
    {
     "data": {
      "image/png": "[encoded data removed]",
      "text/plain": [
       "<Figure size 432x288 with 2 Axes>"
      ]
     },
     "metadata": {
      "needs_background": "light"
     },
     "output_type": "display_data"
    },
    {
     "data": {
      "image/png": "[encoded data removed]",
      "text/plain": [
       "<Figure size 432x288 with 2 Axes>"
      ]
     },
     "metadata": {
      "needs_background": "light"
     },
     "output_type": "display_data"
    }
   ],
   "source": [
    "C_xgb=confusion_matrix(y_test_list, pred_whole_list_xgb,labels=[ 0.,1.])\n",
    "print(C_xgb)\n",
    "f,ax=plt.subplots()\n",
    "\n",
    "sns.heatmap(C_xgb,annot=True, fmt ='g',ax=ax,yticklabels =['Liver','Non-Liver']) #画热力图\n",
    "\n",
    "ax.set_title('Classification for Liver on unbalanced data') #标题\n",
    "ax.set_xlabel('predict') #x轴\n",
    "ax.set_ylabel('true') #y轴\n",
    "plt.savefig('xgb_inserect_pro_ori.jpg')\n",
    "\n",
    "print('for xgb',precision_score(y_test_list, pred_whole_list_xgb, average=None)) \n",
    "print(recall_score(y_test_list, pred_whole_list_xgb, average=None))  \n",
    "print(f1_score(y_test_list, pred_whole_list_xgb, average=None)) \n",
    "\n",
    "C_rf=confusion_matrix(y_test_list, pred_whole_list_rf,labels=[ 0.,1.])\n",
    "print(C_rf)\n",
    "f,ax=plt.subplots()\n",
    "\n",
    "sns.heatmap(C_rf,annot=True, fmt ='g',ax=ax,yticklabels =['Liver','Non-Liver']) #画热力图\n",
    "\n",
    "ax.set_title('Classification for Liver on unbalanced data') #标题\n",
    "ax.set_xlabel('predict') #x轴\n",
    "ax.set_ylabel('true') #y轴\n",
    "plt.savefig('rf_inserect-ori_pro.jpg')\n",
    "\n",
    "print('for rf',precision_score(y_test_list, pred_whole_list_rf, average=None)) \n",
    "print(recall_score(y_test_list, pred_whole_list_rf, average=None))  \n",
    "print(f1_score(y_test_list, pred_whole_list_rf, average=None)) \n",
    "\n",
    "C_gbdt=confusion_matrix(y_test_list, pred_whole_list_gbdt,labels=[ 0.,1.])\n",
    "print(C_gbdt)\n",
    "f,ax=plt.subplots()\n",
    "\n",
    "sns.heatmap(C_gbdt,annot=True, fmt ='g',ax=ax,yticklabels =['Liver','Non-Liver']) #画热力图\n",
    "\n",
    "ax.set_title('Classification for Liver on unbalanced data') #标题\n",
    "ax.set_xlabel('predict') #x轴\n",
    "ax.set_ylabel('true') #y轴\n",
    "plt.savefig('gbdt_inserect_pro_ori.jpg')\n",
    "\n",
    "print('for gbdt',precision_score(y_test_list, pred_whole_list_gbdt, average=None)) \n",
    "print(recall_score(y_test_list, pred_whole_list_gbdt, average=None))  \n",
    "print(f1_score(y_test_list, pred_whole_list_gbdt, average=None)) \n"
   ]
  },
  {
   "cell_type": "code",
   "execution_count": null,
   "id": "a30f40f3",
   "metadata": {},
   "outputs": [],
   "source": []
  }
 ],
 "metadata": {
  "kernelspec": {
   "display_name": "Python 3",
   "language": "python",
   "name": "python3"
  },
  "language_info": {
   "codemirror_mode": {
    "name": "ipython",
    "version": 3
   },
   "file_extension": ".py",
   "mimetype": "text/x-python",
   "name": "python",
   "nbconvert_exporter": "python",
   "pygments_lexer": "ipython3",
   "version": "3.8.8"
  }
 },
 "nbformat": 4,
 "nbformat_minor": 5
}
